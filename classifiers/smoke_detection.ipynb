{
  "cells": [
    {
      "cell_type": "markdown",
      "metadata": {
        "id": "view-in-github",
        "colab_type": "text"
      },
      "source": [
        "<a href=\"https://colab.research.google.com/github/matsl92/machine_learning/blob/main/classifiers/smoke_detection.ipynb\" target=\"_parent\"><img src=\"https://colab.research.google.com/assets/colab-badge.svg\" alt=\"Open In Colab\"/></a>"
      ]
    },
    {
      "cell_type": "code",
      "execution_count": null,
      "metadata": {
        "id": "1trOQdCbTNkA"
      },
      "outputs": [],
      "source": [
        "import numpy as np\n",
        "import pandas as pd\n",
        "from google.colab import drive\n",
        "import sys\n"
      ]
    },
    {
      "cell_type": "code",
      "execution_count": null,
      "metadata": {
        "id": "QJWw0LyyYxJ1"
      },
      "outputs": [],
      "source": [
        "from sklearn.preprocessing import MinMaxScaler\n",
        "from sklearn.model_selection import train_test_split\n",
        "from sklearn.neighbors import KNeighborsClassifier\n",
        "from sklearn.ensemble import RandomForestClassifier\n",
        "from sklearn.svm import SVC\n",
        "from sklearn.metrics import accuracy_score\n",
        "from matplotlib import pyplot as plt"
      ]
    },
    {
      "cell_type": "markdown",
      "metadata": {
        "id": "iO4f9I8PA17c"
      },
      "source": [
        "# **1. Download and save the database**"
      ]
    },
    {
      "cell_type": "code",
      "execution_count": null,
      "metadata": {
        "id": "x4u57GfW030W",
        "colab": {
          "base_uri": "https://localhost:8080/"
        },
        "outputId": "106f1a1e-8d87-4571-fce1-ea5f79313e84"
      },
      "outputs": [
        {
          "output_type": "stream",
          "name": "stdout",
          "text": [
            "Mounted at /content/drive\n",
            "/content/drive/MyDrive/Colab Notebooks/Laboratory_2\n"
          ]
        }
      ],
      "source": [
        "drive.mount(\"/content/drive\")\n",
        "sys.path.append(\"/content/drive/MyDrive/Colab Notebooks/Laboratory_2\")\n",
        "%cd \"/content/drive/MyDrive/Colab Notebooks/Laboratory_2\"\n",
        "df = pd.DataFrame(pd.read_csv(\"smoke_detection_iot.csv\"))"
      ]
    },
    {
      "cell_type": "code",
      "execution_count": null,
      "metadata": {
        "id": "X3iTh9ziJZKx"
      },
      "outputs": [],
      "source": [
        "df = df.drop(df.columns[0], axis=1) # This piece of code gets rid of the first column which contains the index of all the instances"
      ]
    },
    {
      "cell_type": "code",
      "execution_count": null,
      "metadata": {
        "id": "6JO_ZmkfFwX2"
      },
      "outputs": [],
      "source": [
        "target = pd.DataFrame(df[\"Fire Alarm\"])"
      ]
    },
    {
      "cell_type": "code",
      "execution_count": null,
      "metadata": {
        "id": "6jjL2LEAIXeG"
      },
      "outputs": [],
      "source": [
        "\n",
        "data = pd.DataFrame(df.drop([\"Fire Alarm\"], axis = 1))"
      ]
    },
    {
      "cell_type": "code",
      "execution_count": null,
      "metadata": {
        "id": "w5nlPsSUbMB7",
        "colab": {
          "base_uri": "https://localhost:8080/"
        },
        "outputId": "23ca7a9f-b67d-4e3a-e06b-3ab55f22f884"
      },
      "outputs": [
        {
          "output_type": "execute_result",
          "data": {
            "text/plain": [
              "UTC               0\n",
              "Temperature[C]    0\n",
              "Humidity[%]       0\n",
              "TVOC[ppb]         0\n",
              "eCO2[ppm]         0\n",
              "Raw H2            0\n",
              "Raw Ethanol       0\n",
              "Pressure[hPa]     0\n",
              "PM1.0             0\n",
              "PM2.5             0\n",
              "NC0.5             0\n",
              "NC1.0             0\n",
              "NC2.5             0\n",
              "CNT               0\n",
              "Fire Alarm        0\n",
              "dtype: int64"
            ]
          },
          "metadata": {},
          "execution_count": 8
        }
      ],
      "source": [
        "df.isnull().sum()"
      ]
    },
    {
      "cell_type": "code",
      "execution_count": null,
      "metadata": {
        "id": "9INuT7xtus8V",
        "colab": {
          "base_uri": "https://localhost:8080/"
        },
        "outputId": "5cee3683-a4fd-4404-9cf2-affbd9a0d0c3"
      },
      "outputs": [
        {
          "output_type": "stream",
          "name": "stdout",
          "text": [
            "<class 'pandas.core.frame.DataFrame'>\n",
            "RangeIndex: 62630 entries, 0 to 62629\n",
            "Data columns (total 15 columns):\n",
            " #   Column          Non-Null Count  Dtype  \n",
            "---  ------          --------------  -----  \n",
            " 0   UTC             62630 non-null  int64  \n",
            " 1   Temperature[C]  62630 non-null  float64\n",
            " 2   Humidity[%]     62630 non-null  float64\n",
            " 3   TVOC[ppb]       62630 non-null  int64  \n",
            " 4   eCO2[ppm]       62630 non-null  int64  \n",
            " 5   Raw H2          62630 non-null  int64  \n",
            " 6   Raw Ethanol     62630 non-null  int64  \n",
            " 7   Pressure[hPa]   62630 non-null  float64\n",
            " 8   PM1.0           62630 non-null  float64\n",
            " 9   PM2.5           62630 non-null  float64\n",
            " 10  NC0.5           62630 non-null  float64\n",
            " 11  NC1.0           62630 non-null  float64\n",
            " 12  NC2.5           62630 non-null  float64\n",
            " 13  CNT             62630 non-null  int64  \n",
            " 14  Fire Alarm      62630 non-null  int64  \n",
            "dtypes: float64(8), int64(7)\n",
            "memory usage: 7.2 MB\n"
          ]
        }
      ],
      "source": [
        "df.info() # By using the info and isnull methods one can tell whether the dataset is clean or not. In this case the dataset is clean."
      ]
    },
    {
      "cell_type": "markdown",
      "metadata": {
        "id": "ID-imeq6zN2K"
      },
      "source": [
        "## 1b) Normalize the database\n",
        "This process takes every column of the data frame and scales each datum to the value it would have if the maximum and minimum values of the column were one and zero. The porpuse of this is to give all features the same range so that none of them will be more relevant just by the nature of its value range when fitting a model.\n",
        "Database normalization can be done easily with MinMaxScaler's method fit_transform."
      ]
    },
    {
      "cell_type": "code",
      "execution_count": null,
      "metadata": {
        "id": "etq4z5vpTM6x"
      },
      "outputs": [],
      "source": [
        "norm_x = pd.DataFrame(MinMaxScaler().fit_transform(data), columns=data.columns) # norm_x is a new pandas dataframe with the escalated data"
      ]
    },
    {
      "cell_type": "markdown",
      "metadata": {
        "id": "AsW4kMNp3yX4"
      },
      "source": [
        "# **2. Random forest classifier**"
      ]
    },
    {
      "cell_type": "code",
      "execution_count": null,
      "metadata": {
        "id": "fpmyo2SByPDm"
      },
      "outputs": [],
      "source": [
        "X_train, X_test, Y_train, Y_test = train_test_split(norm_x.values, target.values, test_size=0.3, random_state=10)"
      ]
    },
    {
      "cell_type": "markdown",
      "metadata": {
        "id": "0kiLgt404qu4"
      },
      "source": [
        "## 2a) Best number of trees for random forest algorithm"
      ]
    },
    {
      "cell_type": "code",
      "execution_count": null,
      "metadata": {
        "colab": {
          "base_uri": "https://localhost:8080/"
        },
        "id": "gS0L9gjFFoGD",
        "outputId": "9def7b15-7420-4bff-ae08-8ef90ed941f0"
      },
      "outputs": [
        {
          "output_type": "stream",
          "name": "stdout",
          "text": [
            "The best number of trees was 21 with a score of 0.9999467773697376\n"
          ]
        }
      ],
      "source": [
        "# This cell might take a while to execute\n",
        "ind_scores = []\n",
        "for i in range(1, 200, 10):\n",
        "  rfc_model = RandomForestClassifier(n_estimators=i, criterion=\"gini\", min_samples_split=10, random_state=1)\n",
        "  rfc_model.fit(X_train, Y_train.ravel())\n",
        "  prediction = rfc_model.predict(X_test)\n",
        "  ind_score = (i, accuracy_score(Y_test, prediction))\n",
        "  ind_scores.append(ind_score)\n",
        "ind_scores.sort(key = lambda x: x[1], reverse = True)\n",
        "best_n = ind_scores[0][0]\n",
        "print(f'The best number of trees was {ind_scores[0][0]} with a score of {ind_scores[0][1]}')"
      ]
    },
    {
      "cell_type": "code",
      "execution_count": null,
      "metadata": {
        "colab": {
          "base_uri": "https://localhost:8080/",
          "height": 295
        },
        "id": "0im4G6M71r2V",
        "outputId": "0ba396fe-8836-45b0-e75f-2af0afdb1f52"
      },
      "outputs": [
        {
          "output_type": "display_data",
          "data": {
            "text/plain": [
              "<Figure size 432x288 with 1 Axes>"
            ],
            "image/png": "[encoded data removed]"
          },
          "metadata": {
            "needs_background": "light"
          }
        }
      ],
      "source": [
        "plt.bar([i[0] for i in ind_scores], [i[1] for i in ind_scores]) # The arguments are two lists written in list notation. \n",
        "plt.xlabel(\"Number of trees\")\n",
        "plt.ylabel(\"Score\")\n",
        "plt.axis([0, 200, 0.9996, 0.999999]) # The axis method allows to apply a zoom in the area of interest.\n",
        "plt.title(\"Random Forest Classifier\")\n",
        "plt.show()"
      ]
    },
    {
      "cell_type": "markdown",
      "metadata": {
        "id": "CC4r0XwO8f5f"
      },
      "source": [
        "## 2b) Best depth for random forest classifier"
      ]
    },
    {
      "cell_type": "code",
      "execution_count": null,
      "metadata": {
        "colab": {
          "base_uri": "https://localhost:8080/"
        },
        "id": "rae4jUJLp0M8",
        "outputId": "67b9707f-5076-4001-ffdf-0805c1bd72f7"
      },
      "outputs": [
        {
          "output_type": "stream",
          "name": "stdout",
          "text": [
            "The best depth was 9 with a score of 0.9999467773697376\n"
          ]
        }
      ],
      "source": [
        "# This cell might take a while to execute\n",
        "depth_scores = []\n",
        "for i in range(1, 20):\n",
        "  rfc_model = RandomForestClassifier(n_estimators=best_n, max_depth=i, criterion=\"gini\", min_samples_split=10, random_state=1)\n",
        "  rfc_model.fit(X_train, Y_train.ravel())\n",
        "  prediction = rfc_model.predict(X_test)\n",
        "  depth_score = (i, accuracy_score(Y_test, prediction))\n",
        "  depth_scores.append(depth_score)\n",
        "depth_scores.sort(key = lambda x: x[1], reverse = True)\n",
        "best_depth = depth_scores[0][0]\n",
        "print(f'The best depth was {depth_scores[0][0]} with a score of {depth_scores[0][1]}')"
      ]
    },
    {
      "cell_type": "code",
      "execution_count": null,
      "metadata": {
        "id": "EByenfiorh5N",
        "colab": {
          "base_uri": "https://localhost:8080/",
          "height": 295
        },
        "outputId": "928ed51c-2618-4865-8f79-bfc748146926"
      },
      "outputs": [
        {
          "output_type": "display_data",
          "data": {
            "text/plain": [
              "<Figure size 432x288 with 1 Axes>"
            ],
            "image/png": "[encoded data removed]"
          },
          "metadata": {
            "needs_background": "light"
          }
        }
      ],
      "source": [
        "plt.bar([depth_score[0] for depth_score in depth_scores], [depth_score[1] for depth_score in depth_scores]) # The arguments are two lists written in list notation.\n",
        "plt.xlabel(\"Depth\")\n",
        "plt.ylabel(\"Score\")\n",
        "plt.title(\"Random Forest Classifier\")\n",
        "plt.show()"
      ]
    },
    {
      "cell_type": "markdown",
      "metadata": {
        "id": "D6OXPYHX9kSK"
      },
      "source": [
        "# **3. KNN classifier**"
      ]
    },
    {
      "cell_type": "markdown",
      "metadata": {
        "id": "HjaRAJIl-PmA"
      },
      "source": [
        "## 3a) Trying different k values and other parameters"
      ]
    },
    {
      "cell_type": "code",
      "execution_count": null,
      "metadata": {
        "id": "fH0ngem5R3LH"
      },
      "outputs": [],
      "source": [
        "# This cell might take a while to execute\n",
        "ks_and_scores = []\n",
        "for k in range(2, 30, 1):\n",
        "  knn_model = KNeighborsClassifier(n_neighbors=k, p=2, weights=\"uniform\")\n",
        "  knn_model.fit(X_train, Y_train.ravel())\n",
        "  prediction = knn_model.predict(X_test)\n",
        "  k_and_score = (k, accuracy_score(Y_test, prediction))\n",
        "  ks_and_scores.append(k_and_score)\n",
        "ks_and_scores.sort(key = lambda x: x[1], reverse = True)\n",
        "best_k = ks_and_scores[0][0]"
      ]
    },
    {
      "cell_type": "code",
      "execution_count": null,
      "metadata": {
        "colab": {
          "base_uri": "https://localhost:8080/",
          "height": 295
        },
        "id": "vhBRcGpSK5_I",
        "outputId": "b2936575-2eaa-4ff8-bd4a-015ed07de9a5"
      },
      "outputs": [
        {
          "output_type": "display_data",
          "data": {
            "text/plain": [
              "<Figure size 432x288 with 1 Axes>"
            ],
            "image/png": "[encoded data removed]"
          },
          "metadata": {
            "needs_background": "light"
          }
        }
      ],
      "source": [
        "plt.bar([i[0] for i in ks_and_scores], [i[1] for i in ks_and_scores]) # The arguments are two lists written in list notation.\n",
        "plt.xlabel(\"K\")\n",
        "plt.ylabel(\"Score\")\n",
        "plt.axis([0, 30, 0.999, 0.999999])\n",
        "plt.title(\"K Neighbors Classifier\")\n",
        "plt.show()"
      ]
    },
    {
      "cell_type": "markdown",
      "metadata": {
        "id": "eEA6iN7D-cK4"
      },
      "source": [
        "## 3b) Score for best k value"
      ]
    },
    {
      "cell_type": "code",
      "source": [
        "print(f'The best k was {ks_and_scores[0][0]} with a score of {ks_and_scores[0][1]}')"
      ],
      "metadata": {
        "colab": {
          "base_uri": "https://localhost:8080/"
        },
        "id": "EHNW_W0Uz8qE",
        "outputId": "2847ff91-8e2d-44f8-892a-ef4301251947"
      },
      "execution_count": null,
      "outputs": [
        {
          "output_type": "stream",
          "name": "stdout",
          "text": [
            "The best k was 4 with a score of 0.9999467773697376\n"
          ]
        }
      ]
    },
    {
      "cell_type": "markdown",
      "metadata": {
        "id": "UBl99ma2_B0I"
      },
      "source": [
        "# **4. SVM classifier**"
      ]
    },
    {
      "cell_type": "markdown",
      "metadata": {
        "id": "7Dq8gpr2_LP3"
      },
      "source": [
        "## 4a) Trying several kernels for a SVM classifier"
      ]
    },
    {
      "cell_type": "code",
      "execution_count": null,
      "metadata": {
        "colab": {
          "base_uri": "https://localhost:8080/"
        },
        "id": "WxA9UTC6s4NZ",
        "outputId": "ce83781d-a005-4daf-a3f5-bd72bb022fcb"
      },
      "outputs": [
        {
          "output_type": "stream",
          "name": "stdout",
          "text": [
            "The best kernel was rbf with a score of 0.999733886848688\n"
          ]
        }
      ],
      "source": [
        "# This cell might take a while to execute\n",
        "kernels = [\"linear\", \"poly\", \"rbf\", \"sigmoid\"]\n",
        "kerns_scores = []\n",
        "for kernel in kernels:\n",
        "  svm_model = SVC(kernel=kernel, gamma=\"scale\")\n",
        "  svm_model.fit(X_train, Y_train.ravel())\n",
        "  prediction = svm_model.predict(X_test)\n",
        "  kern_score = (kernel, accuracy_score(Y_test, prediction))\n",
        "  kerns_scores.append(kern_score)\n",
        "kerns_scores.sort(key = lambda x: x[1], reverse = True)\n",
        "best_kernel = kerns_scores[0][0]\n",
        "print(f\"The best kernel was {kerns_scores[0][0]} with a score of {kerns_scores[0][1]}\")"
      ]
    },
    {
      "cell_type": "code",
      "source": [
        "a = ([k[0] for k in kerns_scores], [\"scale\", \"scale\", \"scale\", \"scale\"], [k[1] for k in kerns_scores])\n",
        "table = pd.DataFrame(a, index=[\"kernel\", \"gamma\", \"score\"])\n",
        "table.head()"
      ],
      "metadata": {
        "colab": {
          "base_uri": "https://localhost:8080/",
          "height": 143
        },
        "id": "oSrDlBtS37qA",
        "outputId": "c44bdec1-0d2e-4712-c1bc-6907d8dfbfcd"
      },
      "execution_count": null,
      "outputs": [
        {
          "output_type": "execute_result",
          "data": {
            "text/plain": [
              "               0         1         2         3\n",
              "kernel       rbf      poly    linear   sigmoid\n",
              "gamma      scale     scale     scale     scale\n",
              "score   0.999734  0.999681  0.978285  0.754218"
            ],
            "text/html": [
              "\n",
              "  <div id=\"df-93a8b64b-9699-4856-bfc9-4c1fb7be486e\">\n",
              "    <div class=\"colab-df-container\">\n",
              "      <div>\n",
              "<style scoped>\n",
              "    .dataframe tbody tr th:only-of-type {\n",
              "        vertical-align: middle;\n",
              "    }\n",
              "\n",
              "    .dataframe tbody tr th {\n",
              "        vertical-align: top;\n",
              "    }\n",
              "\n",
              "    .dataframe thead th {\n",
              "        text-align: right;\n",
              "    }\n",
              "</style>\n",
              "<table border=\"1\" class=\"dataframe\">\n",
              "  <thead>\n",
              "    <tr style=\"text-align: right;\">\n",
              "      <th></th>\n",
              "      <th>0</th>\n",
              "      <th>1</th>\n",
              "      <th>2</th>\n",
              "      <th>3</th>\n",
              "    </tr>\n",
              "  </thead>\n",
              "  <tbody>\n",
              "    <tr>\n",
              "      <th>kernel</th>\n",
              "      <td>rbf</td>\n",
              "      <td>poly</td>\n",
              "      <td>linear</td>\n",
              "      <td>sigmoid</td>\n",
              "    </tr>\n",
              "    <tr>\n",
              "      <th>gamma</th>\n",
              "      <td>scale</td>\n",
              "      <td>scale</td>\n",
              "      <td>scale</td>\n",
              "      <td>scale</td>\n",
              "    </tr>\n",
              "    <tr>\n",
              "      <th>score</th>\n",
              "      <td>0.999734</td>\n",
              "      <td>0.999681</td>\n",
              "      <td>0.978285</td>\n",
              "      <td>0.754218</td>\n",
              "    </tr>\n",
              "  </tbody>\n",
              "</table>\n",
              "</div>\n",
              "      <button class=\"colab-df-convert\" onclick=\"convertToInteractive('df-93a8b64b-9699-4856-bfc9-4c1fb7be486e')\"\n",
              "              title=\"Convert this dataframe to an interactive table.\"\n",
              "              style=\"display:none;\">\n",
              "        \n",
              "  <svg xmlns=\"http://www.w3.org/2000/svg\" height=\"24px\"viewBox=\"0 0 24 24\"\n",
              "       width=\"24px\">\n",
              "    <path d=\"M0 0h24v24H0V0z\" fill=\"none\"/>\n",
              "    <path d=\"M18.56 5.44l.94 2.06.94-2.06 2.06-.94-2.06-.94-.94-2.06-.94 2.06-2.06.94zm-11 1L8.5 8.5l.94-2.06 2.06-.94-2.06-.94L8.5 2.5l-.94 2.06-2.06.94zm10 10l.94 2.06.94-2.06 2.06-.94-2.06-.94-.94-2.06-.94 2.06-2.06.94z\"/><path d=\"M17.41 7.96l-1.37-1.37c-.4-.4-.92-.59-1.43-.59-.52 0-1.04.2-1.43.59L10.3 9.45l-7.72 7.72c-.78.78-.78 2.05 0 2.83L4 21.41c.39.39.9.59 1.41.59.51 0 1.02-.2 1.41-.59l7.78-7.78 2.81-2.81c.8-.78.8-2.07 0-2.86zM5.41 20L4 18.59l7.72-7.72 1.47 1.35L5.41 20z\"/>\n",
              "  </svg>\n",
              "      </button>\n",
              "      \n",
              "  <style>\n",
              "    .colab-df-container {\n",
              "      display:flex;\n",
              "      flex-wrap:wrap;\n",
              "      gap: 12px;\n",
              "    }\n",
              "\n",
              "    .colab-df-convert {\n",
              "      background-color: #E8F0FE;\n",
              "      border: none;\n",
              "      border-radius: 50%;\n",
              "      cursor: pointer;\n",
              "      display: none;\n",
              "      fill: #1967D2;\n",
              "      height: 32px;\n",
              "      padding: 0 0 0 0;\n",
              "      width: 32px;\n",
              "    }\n",
              "\n",
              "    .colab-df-convert:hover {\n",
              "      background-color: #E2EBFA;\n",
              "      box-shadow: 0px 1px 2px rgba(60, 64, 67, 0.3), 0px 1px 3px 1px rgba(60, 64, 67, 0.15);\n",
              "      fill: #174EA6;\n",
              "    }\n",
              "\n",
              "    [theme=dark] .colab-df-convert {\n",
              "      background-color: #3B4455;\n",
              "      fill: #D2E3FC;\n",
              "    }\n",
              "\n",
              "    [theme=dark] .colab-df-convert:hover {\n",
              "      background-color: #434B5C;\n",
              "      box-shadow: 0px 1px 3px 1px rgba(0, 0, 0, 0.15);\n",
              "      filter: drop-shadow(0px 1px 2px rgba(0, 0, 0, 0.3));\n",
              "      fill: #FFFFFF;\n",
              "    }\n",
              "  </style>\n",
              "\n",
              "      <script>\n",
              "        const buttonEl =\n",
              "          document.querySelector('#df-93a8b64b-9699-4856-bfc9-4c1fb7be486e button.colab-df-convert');\n",
              "        buttonEl.style.display =\n",
              "          google.colab.kernel.accessAllowed ? 'block' : 'none';\n",
              "\n",
              "        async function convertToInteractive(key) {\n",
              "          const element = document.querySelector('#df-93a8b64b-9699-4856-bfc9-4c1fb7be486e');\n",
              "          const dataTable =\n",
              "            await google.colab.kernel.invokeFunction('convertToInteractive',\n",
              "                                                     [key], {});\n",
              "          if (!dataTable) return;\n",
              "\n",
              "          const docLinkHtml = 'Like what you see? Visit the ' +\n",
              "            '<a target=\"_blank\" href=https://colab.research.google.com/notebooks/data_table.ipynb>data table notebook</a>'\n",
              "            + ' to learn more about interactive tables.';\n",
              "          element.innerHTML = '';\n",
              "          dataTable['output_type'] = 'display_data';\n",
              "          await google.colab.output.renderOutput(dataTable, element);\n",
              "          const docLink = document.createElement('div');\n",
              "          docLink.innerHTML = docLinkHtml;\n",
              "          element.appendChild(docLink);\n",
              "        }\n",
              "      </script>\n",
              "    </div>\n",
              "  </div>\n",
              "  "
            ]
          },
          "metadata": {},
          "execution_count": 20
        }
      ]
    },
    {
      "cell_type": "markdown",
      "metadata": {
        "id": "XPu73hcI_6EG"
      },
      "source": [
        "## 4b) Changing Epsilon and Alpha values by little steps"
      ]
    },
    {
      "cell_type": "markdown",
      "metadata": {
        "id": "AkdC_Qnp9eaK"
      },
      "source": [
        "Since there is not epsilon and alpha parameters for SVM Classifier, only for SVM Regressor. the exercise will be done with the parameters C and max_iter."
      ]
    },
    {
      "cell_type": "markdown",
      "source": [
        "Trying different C values"
      ],
      "metadata": {
        "id": "DLwB150I6ZZb"
      }
    },
    {
      "cell_type": "code",
      "execution_count": null,
      "metadata": {
        "id": "yC3Ns1eN9c57",
        "colab": {
          "base_uri": "https://localhost:8080/"
        },
        "outputId": "932b4030-5272-43d7-ef16-297b10a24be2"
      },
      "outputs": [
        {
          "output_type": "stream",
          "name": "stdout",
          "text": [
            "The best C was 0.9000000000000001 with a score of 0.999733886848688\n"
          ]
        }
      ],
      "source": [
        "# This cell might take a while to execute\n",
        "Cs_scores = []\n",
        "for i in np.arange(0.1, 4, 0.2):\n",
        "  svm_model = SVC(kernel=best_kernel, gamma=\"scale\", C=i)\n",
        "  svm_model.fit(X_train, Y_train.ravel())\n",
        "  prediction = svm_model.predict(X_test)\n",
        "  C_score = (i, accuracy_score(Y_test, prediction))\n",
        "  Cs_scores.append(C_score)\n",
        "Cs_scores.sort(key = lambda x: x[1], reverse = True)\n",
        "best_C = Cs_scores[0][0]\n",
        "print(f\"The best C was {Cs_scores[0][0]} with a score of {Cs_scores[0][1]}\")"
      ]
    },
    {
      "cell_type": "code",
      "source": [
        "plt.scatter([i[0] for i in Cs_scores], [i[1] for i in Cs_scores]) # The arguments are two lists written in list notation.\n",
        "plt.xlabel(\"C\")\n",
        "plt.ylabel(\"Score\")\n",
        "plt.axis([0, 4.4, 0.999, 0.999999]) # This method allows to apply a zoom in the area of interest.\n",
        "plt.title(\"Suport Vector Classifier\")\n",
        "plt.show()"
      ],
      "metadata": {
        "colab": {
          "base_uri": "https://localhost:8080/",
          "height": 295
        },
        "id": "zhcBFYuV7GOv",
        "outputId": "9e78c273-2ebf-4089-815f-cea1d518a68d"
      },
      "execution_count": null,
      "outputs": [
        {
          "output_type": "display_data",
          "data": {
            "text/plain": [
              "<Figure size 432x288 with 1 Axes>"
            ],
            "image/png": "[encoded data removed]"
          },
          "metadata": {
            "needs_background": "light"
          }
        }
      ]
    },
    {
      "cell_type": "markdown",
      "source": [
        "Trying different max_iter values"
      ],
      "metadata": {
        "id": "y6ggW_ps6jec"
      }
    },
    {
      "cell_type": "code",
      "execution_count": null,
      "metadata": {
        "id": "IlM4GGZeDq1O",
        "colab": {
          "base_uri": "https://localhost:8080/"
        },
        "outputId": "61a718ba-89c3-4d83-db22-d9688119564b"
      },
      "outputs": [
        {
          "output_type": "stream",
          "name": "stdout",
          "text": [
            "The best max_iter was 1200 with a score of 0.999733886848688\n"
          ]
        }
      ],
      "source": [
        "# This cell might take a while to execute\n",
        "iters_scores = []\n",
        "for i in range(1200, 3200, 500):\n",
        "  svm_model = SVC(kernel=best_kernel, gamma=\"scale\", C=best_C, max_iter=i)\n",
        "  svm_model.fit(X_train, Y_train.ravel())\n",
        "  prediction = svm_model.predict(X_test)\n",
        "  iter_score = (i, accuracy_score(Y_test, prediction))\n",
        "  iters_scores.append(iter_score)\n",
        "iters_scores.sort(key = lambda x: x[1], reverse = True)\n",
        "best_max_iter = iters_scores[0][0]\n",
        "print(f\"The best max_iter was {iters_scores[0][0]} with a score of {iters_scores[0][1]}\")"
      ]
    },
    {
      "cell_type": "markdown",
      "metadata": {
        "id": "CBNWtW7gIPJ8"
      },
      "source": [
        "At this point the parameter max_iter does not make any difference in the result of the SVM model."
      ]
    },
    {
      "cell_type": "code",
      "execution_count": null,
      "metadata": {
        "id": "RfzjmUA2HjCZ",
        "colab": {
          "base_uri": "https://localhost:8080/"
        },
        "outputId": "41cad722-678a-4a3e-c735-e8b8341b3197"
      },
      "outputs": [
        {
          "output_type": "stream",
          "name": "stdout",
          "text": [
            "[(1200, 0.999733886848688), (1700, 0.999733886848688), (2200, 0.999733886848688), (2700, 0.999733886848688)]\n"
          ]
        }
      ],
      "source": [
        "print(iters_scores)"
      ]
    }
  ],
  "metadata": {
    "colab": {
      "collapsed_sections": [],
      "provenance": [],
      "include_colab_link": true
    },
    "kernelspec": {
      "display_name": "Python 3",
      "name": "python3"
    },
    "language_info": {
      "name": "python"
    }
  },
  "nbformat": 4,
  "nbformat_minor": 0
}