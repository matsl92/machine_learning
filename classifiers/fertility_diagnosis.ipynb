{
  "nbformat": 4,
  "nbformat_minor": 0,
  "metadata": {
    "colab": {
      "provenance": [],
      "collapsed_sections": [],
      "authorship_tag": "ABX9TyPdTtwhulU+E5tFC/c2cS5p",
      "include_colab_link": true
    },
    "kernelspec": {
      "name": "python3",
      "display_name": "Python 3"
    },
    "language_info": {
      "name": "python"
    }
  },
  "cells": [
    {
      "cell_type": "markdown",
      "metadata": {
        "id": "view-in-github",
        "colab_type": "text"
      },
      "source": [
        "<a href=\"https://colab.research.google.com/github/matsl92/machine_learning/blob/main/classifiers/fertility_diagnosis.ipynb\" target=\"_parent\"><img src=\"https://colab.research.google.com/assets/colab-badge.svg\" alt=\"Open In Colab\"/></a>"
      ]
    },
    {
      "cell_type": "code",
      "source": [
        "import numpy as np\n",
        "import pandas as pd\n",
        "import seaborn as sns\n",
        "from sklearn.ensemble import RandomForestClassifier\n",
        "from sklearn.datasets import make_classification\n",
        "from sklearn.linear_model import Perceptron\n",
        "from sklearn.model_selection import train_test_split\n",
        "from sklearn.metrics import plot_confusion_matrix, confusion_matrix, accuracy_score, f1_score, precision_score, recall_score\n",
        "from sklearn.preprocessing import MinMaxScaler"
      ],
      "metadata": {
        "id": "tWE6HCQburg5"
      },
      "execution_count": 1,
      "outputs": []
    },
    {
      "cell_type": "code",
      "execution_count": 2,
      "metadata": {
        "id": "1USR4Uid3TmD"
      },
      "outputs": [],
      "source": [
        "df = pd.read_csv(\"https://archive.ics.uci.edu/ml/machine-learning-databases/00244/fertility_Diagnosis.txt\", names = [\"Season\", \"Age\", \"C. diseases\", \"Accident\", \"S. intervention\", \"lyhfever\", \"Acfrequency\", \"Smoking\", \"sittinghours\", \"Output\"])\n"
      ]
    },
    {
      "cell_type": "code",
      "source": [
        "df.head()"
      ],
      "metadata": {
        "colab": {
          "base_uri": "https://localhost:8080/",
          "height": 206
        },
        "id": "ShjR5fCemN7z",
        "outputId": "a59a486d-fb3b-4289-ecb3-a4eac2a9ac59"
      },
      "execution_count": 3,
      "outputs": [
        {
          "output_type": "execute_result",
          "data": {
            "text/plain": [
              "   Season   Age  C. diseases  Accident  S. intervention  lyhfever  \\\n",
              "0   -0.33  0.69            0         1                1         0   \n",
              "1   -0.33  0.94            1         0                1         0   \n",
              "2   -0.33  0.50            1         0                0         0   \n",
              "3   -0.33  0.75            0         1                1         0   \n",
              "4   -0.33  0.67            1         1                0         0   \n",
              "\n",
              "   Acfrequency  Smoking  sittinghours Output  \n",
              "0          0.8        0          0.88      N  \n",
              "1          0.8        1          0.31      O  \n",
              "2          1.0       -1          0.50      N  \n",
              "3          1.0       -1          0.38      N  \n",
              "4          0.8       -1          0.50      O  "
            ],
            "text/html": [
              "\n",
              "  <div id=\"df-e21a1fc3-246d-4cd5-9f31-d09a555e4908\">\n",
              "    <div class=\"colab-df-container\">\n",
              "      <div>\n",
              "<style scoped>\n",
              "    .dataframe tbody tr th:only-of-type {\n",
              "        vertical-align: middle;\n",
              "    }\n",
              "\n",
              "    .dataframe tbody tr th {\n",
              "        vertical-align: top;\n",
              "    }\n",
              "\n",
              "    .dataframe thead th {\n",
              "        text-align: right;\n",
              "    }\n",
              "</style>\n",
              "<table border=\"1\" class=\"dataframe\">\n",
              "  <thead>\n",
              "    <tr style=\"text-align: right;\">\n",
              "      <th></th>\n",
              "      <th>Season</th>\n",
              "      <th>Age</th>\n",
              "      <th>C. diseases</th>\n",
              "      <th>Accident</th>\n",
              "      <th>S. intervention</th>\n",
              "      <th>lyhfever</th>\n",
              "      <th>Acfrequency</th>\n",
              "      <th>Smoking</th>\n",
              "      <th>sittinghours</th>\n",
              "      <th>Output</th>\n",
              "    </tr>\n",
              "  </thead>\n",
              "  <tbody>\n",
              "    <tr>\n",
              "      <th>0</th>\n",
              "      <td>-0.33</td>\n",
              "      <td>0.69</td>\n",
              "      <td>0</td>\n",
              "      <td>1</td>\n",
              "      <td>1</td>\n",
              "      <td>0</td>\n",
              "      <td>0.8</td>\n",
              "      <td>0</td>\n",
              "      <td>0.88</td>\n",
              "      <td>N</td>\n",
              "    </tr>\n",
              "    <tr>\n",
              "      <th>1</th>\n",
              "      <td>-0.33</td>\n",
              "      <td>0.94</td>\n",
              "      <td>1</td>\n",
              "      <td>0</td>\n",
              "      <td>1</td>\n",
              "      <td>0</td>\n",
              "      <td>0.8</td>\n",
              "      <td>1</td>\n",
              "      <td>0.31</td>\n",
              "      <td>O</td>\n",
              "    </tr>\n",
              "    <tr>\n",
              "      <th>2</th>\n",
              "      <td>-0.33</td>\n",
              "      <td>0.50</td>\n",
              "      <td>1</td>\n",
              "      <td>0</td>\n",
              "      <td>0</td>\n",
              "      <td>0</td>\n",
              "      <td>1.0</td>\n",
              "      <td>-1</td>\n",
              "      <td>0.50</td>\n",
              "      <td>N</td>\n",
              "    </tr>\n",
              "    <tr>\n",
              "      <th>3</th>\n",
              "      <td>-0.33</td>\n",
              "      <td>0.75</td>\n",
              "      <td>0</td>\n",
              "      <td>1</td>\n",
              "      <td>1</td>\n",
              "      <td>0</td>\n",
              "      <td>1.0</td>\n",
              "      <td>-1</td>\n",
              "      <td>0.38</td>\n",
              "      <td>N</td>\n",
              "    </tr>\n",
              "    <tr>\n",
              "      <th>4</th>\n",
              "      <td>-0.33</td>\n",
              "      <td>0.67</td>\n",
              "      <td>1</td>\n",
              "      <td>1</td>\n",
              "      <td>0</td>\n",
              "      <td>0</td>\n",
              "      <td>0.8</td>\n",
              "      <td>-1</td>\n",
              "      <td>0.50</td>\n",
              "      <td>O</td>\n",
              "    </tr>\n",
              "  </tbody>\n",
              "</table>\n",
              "</div>\n",
              "      <button class=\"colab-df-convert\" onclick=\"convertToInteractive('df-e21a1fc3-246d-4cd5-9f31-d09a555e4908')\"\n",
              "              title=\"Convert this dataframe to an interactive table.\"\n",
              "              style=\"display:none;\">\n",
              "        \n",
              "  <svg xmlns=\"http://www.w3.org/2000/svg\" height=\"24px\"viewBox=\"0 0 24 24\"\n",
              "       width=\"24px\">\n",
              "    <path d=\"M0 0h24v24H0V0z\" fill=\"none\"/>\n",
              "    <path d=\"M18.56 5.44l.94 2.06.94-2.06 2.06-.94-2.06-.94-.94-2.06-.94 2.06-2.06.94zm-11 1L8.5 8.5l.94-2.06 2.06-.94-2.06-.94L8.5 2.5l-.94 2.06-2.06.94zm10 10l.94 2.06.94-2.06 2.06-.94-2.06-.94-.94-2.06-.94 2.06-2.06.94z\"/><path d=\"M17.41 7.96l-1.37-1.37c-.4-.4-.92-.59-1.43-.59-.52 0-1.04.2-1.43.59L10.3 9.45l-7.72 7.72c-.78.78-.78 2.05 0 2.83L4 21.41c.39.39.9.59 1.41.59.51 0 1.02-.2 1.41-.59l7.78-7.78 2.81-2.81c.8-.78.8-2.07 0-2.86zM5.41 20L4 18.59l7.72-7.72 1.47 1.35L5.41 20z\"/>\n",
              "  </svg>\n",
              "      </button>\n",
              "      \n",
              "  <style>\n",
              "    .colab-df-container {\n",
              "      display:flex;\n",
              "      flex-wrap:wrap;\n",
              "      gap: 12px;\n",
              "    }\n",
              "\n",
              "    .colab-df-convert {\n",
              "      background-color: #E8F0FE;\n",
              "      border: none;\n",
              "      border-radius: 50%;\n",
              "      cursor: pointer;\n",
              "      display: none;\n",
              "      fill: #1967D2;\n",
              "      height: 32px;\n",
              "      padding: 0 0 0 0;\n",
              "      width: 32px;\n",
              "    }\n",
              "\n",
              "    .colab-df-convert:hover {\n",
              "      background-color: #E2EBFA;\n",
              "      box-shadow: 0px 1px 2px rgba(60, 64, 67, 0.3), 0px 1px 3px 1px rgba(60, 64, 67, 0.15);\n",
              "      fill: #174EA6;\n",
              "    }\n",
              "\n",
              "    [theme=dark] .colab-df-convert {\n",
              "      background-color: #3B4455;\n",
              "      fill: #D2E3FC;\n",
              "    }\n",
              "\n",
              "    [theme=dark] .colab-df-convert:hover {\n",
              "      background-color: #434B5C;\n",
              "      box-shadow: 0px 1px 3px 1px rgba(0, 0, 0, 0.15);\n",
              "      filter: drop-shadow(0px 1px 2px rgba(0, 0, 0, 0.3));\n",
              "      fill: #FFFFFF;\n",
              "    }\n",
              "  </style>\n",
              "\n",
              "      <script>\n",
              "        const buttonEl =\n",
              "          document.querySelector('#df-e21a1fc3-246d-4cd5-9f31-d09a555e4908 button.colab-df-convert');\n",
              "        buttonEl.style.display =\n",
              "          google.colab.kernel.accessAllowed ? 'block' : 'none';\n",
              "\n",
              "        async function convertToInteractive(key) {\n",
              "          const element = document.querySelector('#df-e21a1fc3-246d-4cd5-9f31-d09a555e4908');\n",
              "          const dataTable =\n",
              "            await google.colab.kernel.invokeFunction('convertToInteractive',\n",
              "                                                     [key], {});\n",
              "          if (!dataTable) return;\n",
              "\n",
              "          const docLinkHtml = 'Like what you see? Visit the ' +\n",
              "            '<a target=\"_blank\" href=https://colab.research.google.com/notebooks/data_table.ipynb>data table notebook</a>'\n",
              "            + ' to learn more about interactive tables.';\n",
              "          element.innerHTML = '';\n",
              "          dataTable['output_type'] = 'display_data';\n",
              "          await google.colab.output.renderOutput(dataTable, element);\n",
              "          const docLink = document.createElement('div');\n",
              "          docLink.innerHTML = docLinkHtml;\n",
              "          element.appendChild(docLink);\n",
              "        }\n",
              "      </script>\n",
              "    </div>\n",
              "  </div>\n",
              "  "
            ]
          },
          "metadata": {},
          "execution_count": 3
        }
      ]
    },
    {
      "cell_type": "code",
      "source": [
        "df.dtypes"
      ],
      "metadata": {
        "colab": {
          "base_uri": "https://localhost:8080/"
        },
        "id": "2rtO8H6RmSJO",
        "outputId": "2dac2fae-ba68-47a9-e63b-fe8022dc376b"
      },
      "execution_count": 4,
      "outputs": [
        {
          "output_type": "execute_result",
          "data": {
            "text/plain": [
              "Season             float64\n",
              "Age                float64\n",
              "C. diseases          int64\n",
              "Accident             int64\n",
              "S. intervention      int64\n",
              "lyhfever             int64\n",
              "Acfrequency        float64\n",
              "Smoking              int64\n",
              "sittinghours       float64\n",
              "Output              object\n",
              "dtype: object"
            ]
          },
          "metadata": {},
          "execution_count": 4
        }
      ]
    },
    {
      "cell_type": "code",
      "source": [
        "df.describe()"
      ],
      "metadata": {
        "colab": {
          "base_uri": "https://localhost:8080/",
          "height": 344
        },
        "id": "lRe6Z3nSm_yy",
        "outputId": "9ffc9450-c9a0-47d5-b78e-b078cc15bc10"
      },
      "execution_count": 5,
      "outputs": [
        {
          "output_type": "execute_result",
          "data": {
            "text/plain": [
              "           Season         Age  C. diseases    Accident  S. intervention  \\\n",
              "count  100.000000  100.000000   100.000000  100.000000       100.000000   \n",
              "mean    -0.078900    0.669000     0.870000    0.440000         0.510000   \n",
              "std      0.796725    0.121319     0.337998    0.498888         0.502418   \n",
              "min     -1.000000    0.500000     0.000000    0.000000         0.000000   \n",
              "25%     -1.000000    0.560000     1.000000    0.000000         0.000000   \n",
              "50%     -0.330000    0.670000     1.000000    0.000000         1.000000   \n",
              "75%      1.000000    0.750000     1.000000    1.000000         1.000000   \n",
              "max      1.000000    1.000000     1.000000    1.000000         1.000000   \n",
              "\n",
              "         lyhfever  Acfrequency     Smoking  sittinghours  \n",
              "count  100.000000   100.000000  100.000000    100.000000  \n",
              "mean     0.190000     0.832000   -0.350000      0.406800  \n",
              "std      0.580752     0.167501    0.808728      0.186395  \n",
              "min     -1.000000     0.200000   -1.000000      0.060000  \n",
              "25%      0.000000     0.800000   -1.000000      0.250000  \n",
              "50%      0.000000     0.800000   -1.000000      0.380000  \n",
              "75%      1.000000     1.000000    0.000000      0.500000  \n",
              "max      1.000000     1.000000    1.000000      1.000000  "
            ],
            "text/html": [
              "\n",
              "  <div id=\"df-8bee8e58-88c5-4059-9416-59bf09851e13\">\n",
              "    <div class=\"colab-df-container\">\n",
              "      <div>\n",
              "<style scoped>\n",
              "    .dataframe tbody tr th:only-of-type {\n",
              "        vertical-align: middle;\n",
              "    }\n",
              "\n",
              "    .dataframe tbody tr th {\n",
              "        vertical-align: top;\n",
              "    }\n",
              "\n",
              "    .dataframe thead th {\n",
              "        text-align: right;\n",
              "    }\n",
              "</style>\n",
              "<table border=\"1\" class=\"dataframe\">\n",
              "  <thead>\n",
              "    <tr style=\"text-align: right;\">\n",
              "      <th></th>\n",
              "      <th>Season</th>\n",
              "      <th>Age</th>\n",
              "      <th>C. diseases</th>\n",
              "      <th>Accident</th>\n",
              "      <th>S. intervention</th>\n",
              "      <th>lyhfever</th>\n",
              "      <th>Acfrequency</th>\n",
              "      <th>Smoking</th>\n",
              "      <th>sittinghours</th>\n",
              "    </tr>\n",
              "  </thead>\n",
              "  <tbody>\n",
              "    <tr>\n",
              "      <th>count</th>\n",
              "      <td>100.000000</td>\n",
              "      <td>100.000000</td>\n",
              "      <td>100.000000</td>\n",
              "      <td>100.000000</td>\n",
              "      <td>100.000000</td>\n",
              "      <td>100.000000</td>\n",
              "      <td>100.000000</td>\n",
              "      <td>100.000000</td>\n",
              "      <td>100.000000</td>\n",
              "    </tr>\n",
              "    <tr>\n",
              "      <th>mean</th>\n",
              "      <td>-0.078900</td>\n",
              "      <td>0.669000</td>\n",
              "      <td>0.870000</td>\n",
              "      <td>0.440000</td>\n",
              "      <td>0.510000</td>\n",
              "      <td>0.190000</td>\n",
              "      <td>0.832000</td>\n",
              "      <td>-0.350000</td>\n",
              "      <td>0.406800</td>\n",
              "    </tr>\n",
              "    <tr>\n",
              "      <th>std</th>\n",
              "      <td>0.796725</td>\n",
              "      <td>0.121319</td>\n",
              "      <td>0.337998</td>\n",
              "      <td>0.498888</td>\n",
              "      <td>0.502418</td>\n",
              "      <td>0.580752</td>\n",
              "      <td>0.167501</td>\n",
              "      <td>0.808728</td>\n",
              "      <td>0.186395</td>\n",
              "    </tr>\n",
              "    <tr>\n",
              "      <th>min</th>\n",
              "      <td>-1.000000</td>\n",
              "      <td>0.500000</td>\n",
              "      <td>0.000000</td>\n",
              "      <td>0.000000</td>\n",
              "      <td>0.000000</td>\n",
              "      <td>-1.000000</td>\n",
              "      <td>0.200000</td>\n",
              "      <td>-1.000000</td>\n",
              "      <td>0.060000</td>\n",
              "    </tr>\n",
              "    <tr>\n",
              "      <th>25%</th>\n",
              "      <td>-1.000000</td>\n",
              "      <td>0.560000</td>\n",
              "      <td>1.000000</td>\n",
              "      <td>0.000000</td>\n",
              "      <td>0.000000</td>\n",
              "      <td>0.000000</td>\n",
              "      <td>0.800000</td>\n",
              "      <td>-1.000000</td>\n",
              "      <td>0.250000</td>\n",
              "    </tr>\n",
              "    <tr>\n",
              "      <th>50%</th>\n",
              "      <td>-0.330000</td>\n",
              "      <td>0.670000</td>\n",
              "      <td>1.000000</td>\n",
              "      <td>0.000000</td>\n",
              "      <td>1.000000</td>\n",
              "      <td>0.000000</td>\n",
              "      <td>0.800000</td>\n",
              "      <td>-1.000000</td>\n",
              "      <td>0.380000</td>\n",
              "    </tr>\n",
              "    <tr>\n",
              "      <th>75%</th>\n",
              "      <td>1.000000</td>\n",
              "      <td>0.750000</td>\n",
              "      <td>1.000000</td>\n",
              "      <td>1.000000</td>\n",
              "      <td>1.000000</td>\n",
              "      <td>1.000000</td>\n",
              "      <td>1.000000</td>\n",
              "      <td>0.000000</td>\n",
              "      <td>0.500000</td>\n",
              "    </tr>\n",
              "    <tr>\n",
              "      <th>max</th>\n",
              "      <td>1.000000</td>\n",
              "      <td>1.000000</td>\n",
              "      <td>1.000000</td>\n",
              "      <td>1.000000</td>\n",
              "      <td>1.000000</td>\n",
              "      <td>1.000000</td>\n",
              "      <td>1.000000</td>\n",
              "      <td>1.000000</td>\n",
              "      <td>1.000000</td>\n",
              "    </tr>\n",
              "  </tbody>\n",
              "</table>\n",
              "</div>\n",
              "      <button class=\"colab-df-convert\" onclick=\"convertToInteractive('df-8bee8e58-88c5-4059-9416-59bf09851e13')\"\n",
              "              title=\"Convert this dataframe to an interactive table.\"\n",
              "              style=\"display:none;\">\n",
              "        \n",
              "  <svg xmlns=\"http://www.w3.org/2000/svg\" height=\"24px\"viewBox=\"0 0 24 24\"\n",
              "       width=\"24px\">\n",
              "    <path d=\"M0 0h24v24H0V0z\" fill=\"none\"/>\n",
              "    <path d=\"M18.56 5.44l.94 2.06.94-2.06 2.06-.94-2.06-.94-.94-2.06-.94 2.06-2.06.94zm-11 1L8.5 8.5l.94-2.06 2.06-.94-2.06-.94L8.5 2.5l-.94 2.06-2.06.94zm10 10l.94 2.06.94-2.06 2.06-.94-2.06-.94-.94-2.06-.94 2.06-2.06.94z\"/><path d=\"M17.41 7.96l-1.37-1.37c-.4-.4-.92-.59-1.43-.59-.52 0-1.04.2-1.43.59L10.3 9.45l-7.72 7.72c-.78.78-.78 2.05 0 2.83L4 21.41c.39.39.9.59 1.41.59.51 0 1.02-.2 1.41-.59l7.78-7.78 2.81-2.81c.8-.78.8-2.07 0-2.86zM5.41 20L4 18.59l7.72-7.72 1.47 1.35L5.41 20z\"/>\n",
              "  </svg>\n",
              "      </button>\n",
              "      \n",
              "  <style>\n",
              "    .colab-df-container {\n",
              "      display:flex;\n",
              "      flex-wrap:wrap;\n",
              "      gap: 12px;\n",
              "    }\n",
              "\n",
              "    .colab-df-convert {\n",
              "      background-color: #E8F0FE;\n",
              "      border: none;\n",
              "      border-radius: 50%;\n",
              "      cursor: pointer;\n",
              "      display: none;\n",
              "      fill: #1967D2;\n",
              "      height: 32px;\n",
              "      padding: 0 0 0 0;\n",
              "      width: 32px;\n",
              "    }\n",
              "\n",
              "    .colab-df-convert:hover {\n",
              "      background-color: #E2EBFA;\n",
              "      box-shadow: 0px 1px 2px rgba(60, 64, 67, 0.3), 0px 1px 3px 1px rgba(60, 64, 67, 0.15);\n",
              "      fill: #174EA6;\n",
              "    }\n",
              "\n",
              "    [theme=dark] .colab-df-convert {\n",
              "      background-color: #3B4455;\n",
              "      fill: #D2E3FC;\n",
              "    }\n",
              "\n",
              "    [theme=dark] .colab-df-convert:hover {\n",
              "      background-color: #434B5C;\n",
              "      box-shadow: 0px 1px 3px 1px rgba(0, 0, 0, 0.15);\n",
              "      filter: drop-shadow(0px 1px 2px rgba(0, 0, 0, 0.3));\n",
              "      fill: #FFFFFF;\n",
              "    }\n",
              "  </style>\n",
              "\n",
              "      <script>\n",
              "        const buttonEl =\n",
              "          document.querySelector('#df-8bee8e58-88c5-4059-9416-59bf09851e13 button.colab-df-convert');\n",
              "        buttonEl.style.display =\n",
              "          google.colab.kernel.accessAllowed ? 'block' : 'none';\n",
              "\n",
              "        async function convertToInteractive(key) {\n",
              "          const element = document.querySelector('#df-8bee8e58-88c5-4059-9416-59bf09851e13');\n",
              "          const dataTable =\n",
              "            await google.colab.kernel.invokeFunction('convertToInteractive',\n",
              "                                                     [key], {});\n",
              "          if (!dataTable) return;\n",
              "\n",
              "          const docLinkHtml = 'Like what you see? Visit the ' +\n",
              "            '<a target=\"_blank\" href=https://colab.research.google.com/notebooks/data_table.ipynb>data table notebook</a>'\n",
              "            + ' to learn more about interactive tables.';\n",
              "          element.innerHTML = '';\n",
              "          dataTable['output_type'] = 'display_data';\n",
              "          await google.colab.output.renderOutput(dataTable, element);\n",
              "          const docLink = document.createElement('div');\n",
              "          docLink.innerHTML = docLinkHtml;\n",
              "          element.appendChild(docLink);\n",
              "        }\n",
              "      </script>\n",
              "    </div>\n",
              "  </div>\n",
              "  "
            ]
          },
          "metadata": {},
          "execution_count": 5
        }
      ]
    },
    {
      "cell_type": "markdown",
      "source": [
        "El metodo describe nos entrega datos estadisticos del dataframe, como lo son la media, la desviación estandar, algunos percentiles, etc."
      ],
      "metadata": {
        "id": "u-ZgL5fAaynw"
      }
    },
    {
      "cell_type": "code",
      "source": [
        "df.isnull().sum()"
      ],
      "metadata": {
        "colab": {
          "base_uri": "https://localhost:8080/"
        },
        "id": "MVuS4m6ZqyPj",
        "outputId": "62b02461-78d7-4a0f-db0b-97da11b5c1ba"
      },
      "execution_count": 6,
      "outputs": [
        {
          "output_type": "execute_result",
          "data": {
            "text/plain": [
              "Season             0\n",
              "Age                0\n",
              "C. diseases        0\n",
              "Accident           0\n",
              "S. intervention    0\n",
              "lyhfever           0\n",
              "Acfrequency        0\n",
              "Smoking            0\n",
              "sittinghours       0\n",
              "Output             0\n",
              "dtype: int64"
            ]
          },
          "metadata": {},
          "execution_count": 6
        }
      ]
    },
    {
      "cell_type": "markdown",
      "source": [
        "El metodo isnull acompañado de la función sum nos hace un conteo de los valores nulos que hay en cada columna del dataframe, en este caso el dataframe no tiene un solo dato nulo."
      ],
      "metadata": {
        "id": "oFWIQqtab-aI"
      }
    },
    {
      "cell_type": "code",
      "source": [
        "def value_counts_graphs(column_name):\n",
        "    label_freq = df[column_name].value_counts() / len(df)\n",
        "    plotting = label_freq.sort_values(ascending=False).plot.bar()\n",
        "    return label_freq, plotting "
      ],
      "metadata": {
        "id": "7YVw5DPQqyZO"
      },
      "execution_count": 7,
      "outputs": []
    },
    {
      "cell_type": "code",
      "source": [
        "value_counts_graphs('Season')"
      ],
      "metadata": {
        "colab": {
          "base_uri": "https://localhost:8080/",
          "height": 385
        },
        "id": "xAAKi6qLqygQ",
        "outputId": "edfe896b-bc1c-46d7-f9a1-1c59c76de100"
      },
      "execution_count": 8,
      "outputs": [
        {
          "output_type": "execute_result",
          "data": {
            "text/plain": [
              "(-0.33    0.37\n",
              "  1.00    0.31\n",
              " -1.00    0.28\n",
              "  0.33    0.04\n",
              " Name: Season, dtype: float64,\n",
              " <matplotlib.axes._subplots.AxesSubplot at 0x7f72e13024d0>)"
            ]
          },
          "metadata": {},
          "execution_count": 8
        },
        {
          "output_type": "display_data",
          "data": {
            "text/plain": [
              "<Figure size 432x288 with 1 Axes>"
            ],
            "image/png": "[encoded data removed]"
          },
          "metadata": {
            "needs_background": "light"
          }
        }
      ]
    },
    {
      "cell_type": "markdown",
      "source": [
        "La anterior gráfica nos muestra que un poco más de la tercera parte de las muestras fueron tomadas en primavera, siendo esta estación la más comun de todas, seguida por otoño e invierno respectivamente con valores cercanos al 30% de toda la muestra, y finalizamos con verano que obtuvo un valor de menos del 5% de las muestras."
      ],
      "metadata": {
        "id": "pjgyc62seR2t"
      }
    },
    {
      "cell_type": "code",
      "source": [
        "value_counts_graphs('Age')"
      ],
      "metadata": {
        "colab": {
          "base_uri": "https://localhost:8080/",
          "height": 625
        },
        "id": "SbR_wrKHqylD",
        "outputId": "f827b899-d582-48f0-8de4-af3bf7d6d958"
      },
      "execution_count": 9,
      "outputs": [
        {
          "output_type": "execute_result",
          "data": {
            "text/plain": [
              "(0.67    0.14\n",
              " 0.56    0.12\n",
              " 0.75    0.10\n",
              " 0.53    0.09\n",
              " 0.69    0.07\n",
              " 0.50    0.07\n",
              " 0.58    0.07\n",
              " 0.78    0.07\n",
              " 0.64    0.06\n",
              " 0.81    0.05\n",
              " 0.61    0.05\n",
              " 0.94    0.02\n",
              " 1.00    0.02\n",
              " 0.72    0.02\n",
              " 0.92    0.02\n",
              " 0.86    0.01\n",
              " 0.89    0.01\n",
              " 0.83    0.01\n",
              " Name: Age, dtype: float64,\n",
              " <matplotlib.axes._subplots.AxesSubplot at 0x7f72e124d150>)"
            ]
          },
          "metadata": {},
          "execution_count": 9
        },
        {
          "output_type": "display_data",
          "data": {
            "text/plain": [
              "<Figure size 432x288 with 1 Axes>"
            ],
            "image/png": "[encoded data removed]"
          },
          "metadata": {
            "needs_background": "light"
          }
        }
      ]
    },
    {
      "cell_type": "code",
      "source": [
        "value_counts_graphs('C. diseases')"
      ],
      "metadata": {
        "colab": {
          "base_uri": "https://localhost:8080/",
          "height": 331
        },
        "id": "lTEJcYK5qynA",
        "outputId": "3d9917d6-dceb-428d-d5f9-847d18cb2a7c"
      },
      "execution_count": 10,
      "outputs": [
        {
          "output_type": "execute_result",
          "data": {
            "text/plain": [
              "(1    0.87\n",
              " 0    0.13\n",
              " Name: C. diseases, dtype: float64,\n",
              " <matplotlib.axes._subplots.AxesSubplot at 0x7f72e0ce0f10>)"
            ]
          },
          "metadata": {},
          "execution_count": 10
        },
        {
          "output_type": "display_data",
          "data": {
            "text/plain": [
              "<Figure size 432x288 with 1 Axes>"
            ],
            "image/png": "[encoded data removed]"
          },
          "metadata": {
            "needs_background": "light"
          }
        }
      ]
    },
    {
      "cell_type": "markdown",
      "source": [
        "La anterior gráfica nos muestra que cerca del 90% de los hombres no presentaba alguna enfermedad de la infancia, contra un 10% que sí presentaba alguna de estas."
      ],
      "metadata": {
        "id": "R07RzmTogaV1"
      }
    },
    {
      "cell_type": "code",
      "source": [
        "value_counts_graphs('Accident')"
      ],
      "metadata": {
        "colab": {
          "base_uri": "https://localhost:8080/",
          "height": 331
        },
        "id": "7XoLBHTJqyqJ",
        "outputId": "30ef6c61-2fd8-47de-c749-5a9af0239e98"
      },
      "execution_count": 11,
      "outputs": [
        {
          "output_type": "execute_result",
          "data": {
            "text/plain": [
              "(0    0.56\n",
              " 1    0.44\n",
              " Name: Accident, dtype: float64,\n",
              " <matplotlib.axes._subplots.AxesSubplot at 0x7f72e0c65a90>)"
            ]
          },
          "metadata": {},
          "execution_count": 11
        },
        {
          "output_type": "display_data",
          "data": {
            "text/plain": [
              "<Figure size 432x288 with 1 Axes>"
            ],
            "image/png": "[encoded data removed]"
          },
          "metadata": {
            "needs_background": "light"
          }
        }
      ]
    },
    {
      "cell_type": "markdown",
      "source": [
        "La mayoría de individuos analizados ha sufrido algún accidente o trauma serio."
      ],
      "metadata": {
        "id": "9F-H_KLdhTNE"
      }
    },
    {
      "cell_type": "code",
      "source": [
        "value_counts_graphs('S. intervention')"
      ],
      "metadata": {
        "colab": {
          "base_uri": "https://localhost:8080/",
          "height": 331
        },
        "id": "saFCUXaTqytj",
        "outputId": "cd5f9937-78d4-4300-bb06-a13806e80e31"
      },
      "execution_count": 12,
      "outputs": [
        {
          "output_type": "execute_result",
          "data": {
            "text/plain": [
              "(1    0.51\n",
              " 0    0.49\n",
              " Name: S. intervention, dtype: float64,\n",
              " <matplotlib.axes._subplots.AxesSubplot at 0x7f72e0bd2550>)"
            ]
          },
          "metadata": {},
          "execution_count": 12
        },
        {
          "output_type": "display_data",
          "data": {
            "text/plain": [
              "<Figure size 432x288 with 1 Axes>"
            ],
            "image/png": "[encoded data removed]"
          },
          "metadata": {
            "needs_background": "light"
          }
        }
      ]
    },
    {
      "cell_type": "markdown",
      "source": [
        "De manera muy equitativa se divide la muestra entre los individuos que han sido intervenidos quirúrgicamente y los que no, siendo los primeros los que predominan."
      ],
      "metadata": {
        "id": "m5_MYg8Pi86k"
      }
    },
    {
      "cell_type": "code",
      "source": [
        "value_counts_graphs('lyhfever')"
      ],
      "metadata": {
        "colab": {
          "base_uri": "https://localhost:8080/",
          "height": 352
        },
        "id": "fijioh7SqywU",
        "outputId": "98e89e6a-4884-456a-e830-4209b481f79f"
      },
      "execution_count": 13,
      "outputs": [
        {
          "output_type": "execute_result",
          "data": {
            "text/plain": [
              "( 0    0.63\n",
              "  1    0.28\n",
              " -1    0.09\n",
              " Name: lyhfever, dtype: float64,\n",
              " <matplotlib.axes._subplots.AxesSubplot at 0x7f72e0bc0050>)"
            ]
          },
          "metadata": {},
          "execution_count": 13
        },
        {
          "output_type": "display_data",
          "data": {
            "text/plain": [
              "<Figure size 432x288 with 1 Axes>"
            ],
            "image/png": "[encoded data removed]"
          },
          "metadata": {
            "needs_background": "light"
          }
        }
      ]
    },
    {
      "cell_type": "markdown",
      "source": [
        "Un poco más del 60% de la muestra presentó fiebre en los ultimos tres meses, cerca del 30% presentó fiebre hace más de tres meses, y aproximadamente 10% de la muestra tuvo altas fiebres en el ultimo año."
      ],
      "metadata": {
        "id": "pCD76Vc7j-2U"
      }
    },
    {
      "cell_type": "code",
      "source": [
        "value_counts_graphs('Acfrequency')"
      ],
      "metadata": {
        "colab": {
          "base_uri": "https://localhost:8080/",
          "height": 393
        },
        "id": "lMPzgMC1t5mF",
        "outputId": "8d46f6db-7f4d-42d7-946e-a4a33e4356ca"
      },
      "execution_count": 14,
      "outputs": [
        {
          "output_type": "execute_result",
          "data": {
            "text/plain": [
              "(1.0    0.40\n",
              " 0.8    0.39\n",
              " 0.6    0.19\n",
              " 0.2    0.01\n",
              " 0.4    0.01\n",
              " Name: Acfrequency, dtype: float64,\n",
              " <matplotlib.axes._subplots.AxesSubplot at 0x7f72e0b2dfd0>)"
            ]
          },
          "metadata": {},
          "execution_count": 14
        },
        {
          "output_type": "display_data",
          "data": {
            "text/plain": [
              "<Figure size 432x288 with 1 Axes>"
            ],
            "image/png": "[encoded data removed]"
          },
          "metadata": {
            "needs_background": "light"
          }
        }
      ]
    },
    {
      "cell_type": "markdown",
      "source": [
        "Casi el 80% de la muestra consume alcohol ya sea una vez a la semana, casi nunca o nunca, miestras que menos del 5% lo consume una o varias veces al día."
      ],
      "metadata": {
        "id": "orPXFdLRlcB0"
      }
    },
    {
      "cell_type": "code",
      "source": [
        "value_counts_graphs('Smoking')"
      ],
      "metadata": {
        "colab": {
          "base_uri": "https://localhost:8080/",
          "height": 352
        },
        "id": "AoVT-JV5qy0Q",
        "outputId": "02eee41f-581c-4d4e-b0a3-5fd9ae4ba622"
      },
      "execution_count": 15,
      "outputs": [
        {
          "output_type": "execute_result",
          "data": {
            "text/plain": [
              "(-1    0.56\n",
              "  0    0.23\n",
              "  1    0.21\n",
              " Name: Smoking, dtype: float64,\n",
              " <matplotlib.axes._subplots.AxesSubplot at 0x7f72e0b34110>)"
            ]
          },
          "metadata": {},
          "execution_count": 15
        },
        {
          "output_type": "display_data",
          "data": {
            "text/plain": [
              "<Figure size 432x288 with 1 Axes>"
            ],
            "image/png": "[encoded data removed]"
          },
          "metadata": {
            "needs_background": "light"
          }
        }
      ]
    },
    {
      "cell_type": "markdown",
      "source": [
        "Más del 50% de la muestra no fuma, la otra mitad se divide de manera muy pareja entre los que lo hacen ocasionalmente y diariamente."
      ],
      "metadata": {
        "id": "NviuVOAZmI9G"
      }
    },
    {
      "cell_type": "code",
      "source": [
        "value_counts_graphs('sittinghours')"
      ],
      "metadata": {
        "colab": {
          "base_uri": "https://localhost:8080/",
          "height": 556
        },
        "id": "qiD8a5T2qy25",
        "outputId": "c36aba8c-6750-4944-f42e-b30c4a76cc30"
      },
      "execution_count": 16,
      "outputs": [
        {
          "output_type": "execute_result",
          "data": {
            "text/plain": [
              "(0.25    0.17\n",
              " 0.50    0.16\n",
              " 0.38    0.13\n",
              " 0.31    0.11\n",
              " 0.19    0.11\n",
              " 0.63    0.10\n",
              " 0.44    0.09\n",
              " 0.88    0.03\n",
              " 0.75    0.03\n",
              " 0.56    0.02\n",
              " 0.06    0.02\n",
              " 0.13    0.01\n",
              " 1.00    0.01\n",
              " 0.47    0.01\n",
              " Name: sittinghours, dtype: float64,\n",
              " <matplotlib.axes._subplots.AxesSubplot at 0x7f72e0a27190>)"
            ]
          },
          "metadata": {},
          "execution_count": 16
        },
        {
          "output_type": "display_data",
          "data": {
            "text/plain": [
              "<Figure size 432x288 with 1 Axes>"
            ],
            "image/png": "[encoded data removed]"
          },
          "metadata": {
            "needs_background": "light"
          }
        }
      ]
    },
    {
      "cell_type": "code",
      "source": [
        "df.boxplot()"
      ],
      "metadata": {
        "colab": {
          "base_uri": "https://localhost:8080/",
          "height": 282
        },
        "id": "-Tt9LOxaqy43",
        "outputId": "d6f85979-e7a9-44c7-95b5-104a443a7b84"
      },
      "execution_count": 17,
      "outputs": [
        {
          "output_type": "execute_result",
          "data": {
            "text/plain": [
              "<matplotlib.axes._subplots.AxesSubplot at 0x7f72e0955b50>"
            ]
          },
          "metadata": {},
          "execution_count": 17
        },
        {
          "output_type": "display_data",
          "data": {
            "text/plain": [
              "<Figure size 432x288 with 1 Axes>"
            ],
            "image/png": "[encoded data removed]"
          },
          "metadata": {
            "needs_background": "light"
          }
        }
      ]
    },
    {
      "cell_type": "markdown",
      "source": [
        "Para cada columna tenemos un gráfico que nos ubica el valor mínimo, el cuartil 1, la mediana, el cuartil 3 y el valor máximo de cada columna que representa uno de los atributos o caracteristicas que tienen los individuo de la muestra.\n",
        "Por ejemplo, con respecto a la segunda columna, teniendo en cuenta que el rango de edad de los varones de la muestra va desde 18 hasta 36 años, y esto se representa en un rango entre 0 y 1, podemos interpretar que no hay individuo con menos de 27 años en la muestra, ya que el valor mínimo es de 0.50 que en el rango (18-36) equivale a 27."
      ],
      "metadata": {
        "id": "dlSlzbHLrLBe"
      }
    },
    {
      "cell_type": "code",
      "source": [
        "df.head()"
      ],
      "metadata": {
        "colab": {
          "base_uri": "https://localhost:8080/",
          "height": 206
        },
        "id": "cFIlVAusqy9e",
        "outputId": "ba8806de-6b8a-487a-8a1a-dee03300be78"
      },
      "execution_count": 18,
      "outputs": [
        {
          "output_type": "execute_result",
          "data": {
            "text/plain": [
              "   Season   Age  C. diseases  Accident  S. intervention  lyhfever  \\\n",
              "0   -0.33  0.69            0         1                1         0   \n",
              "1   -0.33  0.94            1         0                1         0   \n",
              "2   -0.33  0.50            1         0                0         0   \n",
              "3   -0.33  0.75            0         1                1         0   \n",
              "4   -0.33  0.67            1         1                0         0   \n",
              "\n",
              "   Acfrequency  Smoking  sittinghours Output  \n",
              "0          0.8        0          0.88      N  \n",
              "1          0.8        1          0.31      O  \n",
              "2          1.0       -1          0.50      N  \n",
              "3          1.0       -1          0.38      N  \n",
              "4          0.8       -1          0.50      O  "
            ],
            "text/html": [
              "\n",
              "  <div id=\"df-59764226-822d-4447-825f-c79836aa5dc5\">\n",
              "    <div class=\"colab-df-container\">\n",
              "      <div>\n",
              "<style scoped>\n",
              "    .dataframe tbody tr th:only-of-type {\n",
              "        vertical-align: middle;\n",
              "    }\n",
              "\n",
              "    .dataframe tbody tr th {\n",
              "        vertical-align: top;\n",
              "    }\n",
              "\n",
              "    .dataframe thead th {\n",
              "        text-align: right;\n",
              "    }\n",
              "</style>\n",
              "<table border=\"1\" class=\"dataframe\">\n",
              "  <thead>\n",
              "    <tr style=\"text-align: right;\">\n",
              "      <th></th>\n",
              "      <th>Season</th>\n",
              "      <th>Age</th>\n",
              "      <th>C. diseases</th>\n",
              "      <th>Accident</th>\n",
              "      <th>S. intervention</th>\n",
              "      <th>lyhfever</th>\n",
              "      <th>Acfrequency</th>\n",
              "      <th>Smoking</th>\n",
              "      <th>sittinghours</th>\n",
              "      <th>Output</th>\n",
              "    </tr>\n",
              "  </thead>\n",
              "  <tbody>\n",
              "    <tr>\n",
              "      <th>0</th>\n",
              "      <td>-0.33</td>\n",
              "      <td>0.69</td>\n",
              "      <td>0</td>\n",
              "      <td>1</td>\n",
              "      <td>1</td>\n",
              "      <td>0</td>\n",
              "      <td>0.8</td>\n",
              "      <td>0</td>\n",
              "      <td>0.88</td>\n",
              "      <td>N</td>\n",
              "    </tr>\n",
              "    <tr>\n",
              "      <th>1</th>\n",
              "      <td>-0.33</td>\n",
              "      <td>0.94</td>\n",
              "      <td>1</td>\n",
              "      <td>0</td>\n",
              "      <td>1</td>\n",
              "      <td>0</td>\n",
              "      <td>0.8</td>\n",
              "      <td>1</td>\n",
              "      <td>0.31</td>\n",
              "      <td>O</td>\n",
              "    </tr>\n",
              "    <tr>\n",
              "      <th>2</th>\n",
              "      <td>-0.33</td>\n",
              "      <td>0.50</td>\n",
              "      <td>1</td>\n",
              "      <td>0</td>\n",
              "      <td>0</td>\n",
              "      <td>0</td>\n",
              "      <td>1.0</td>\n",
              "      <td>-1</td>\n",
              "      <td>0.50</td>\n",
              "      <td>N</td>\n",
              "    </tr>\n",
              "    <tr>\n",
              "      <th>3</th>\n",
              "      <td>-0.33</td>\n",
              "      <td>0.75</td>\n",
              "      <td>0</td>\n",
              "      <td>1</td>\n",
              "      <td>1</td>\n",
              "      <td>0</td>\n",
              "      <td>1.0</td>\n",
              "      <td>-1</td>\n",
              "      <td>0.38</td>\n",
              "      <td>N</td>\n",
              "    </tr>\n",
              "    <tr>\n",
              "      <th>4</th>\n",
              "      <td>-0.33</td>\n",
              "      <td>0.67</td>\n",
              "      <td>1</td>\n",
              "      <td>1</td>\n",
              "      <td>0</td>\n",
              "      <td>0</td>\n",
              "      <td>0.8</td>\n",
              "      <td>-1</td>\n",
              "      <td>0.50</td>\n",
              "      <td>O</td>\n",
              "    </tr>\n",
              "  </tbody>\n",
              "</table>\n",
              "</div>\n",
              "      <button class=\"colab-df-convert\" onclick=\"convertToInteractive('df-59764226-822d-4447-825f-c79836aa5dc5')\"\n",
              "              title=\"Convert this dataframe to an interactive table.\"\n",
              "              style=\"display:none;\">\n",
              "        \n",
              "  <svg xmlns=\"http://www.w3.org/2000/svg\" height=\"24px\"viewBox=\"0 0 24 24\"\n",
              "       width=\"24px\">\n",
              "    <path d=\"M0 0h24v24H0V0z\" fill=\"none\"/>\n",
              "    <path d=\"M18.56 5.44l.94 2.06.94-2.06 2.06-.94-2.06-.94-.94-2.06-.94 2.06-2.06.94zm-11 1L8.5 8.5l.94-2.06 2.06-.94-2.06-.94L8.5 2.5l-.94 2.06-2.06.94zm10 10l.94 2.06.94-2.06 2.06-.94-2.06-.94-.94-2.06-.94 2.06-2.06.94z\"/><path d=\"M17.41 7.96l-1.37-1.37c-.4-.4-.92-.59-1.43-.59-.52 0-1.04.2-1.43.59L10.3 9.45l-7.72 7.72c-.78.78-.78 2.05 0 2.83L4 21.41c.39.39.9.59 1.41.59.51 0 1.02-.2 1.41-.59l7.78-7.78 2.81-2.81c.8-.78.8-2.07 0-2.86zM5.41 20L4 18.59l7.72-7.72 1.47 1.35L5.41 20z\"/>\n",
              "  </svg>\n",
              "      </button>\n",
              "      \n",
              "  <style>\n",
              "    .colab-df-container {\n",
              "      display:flex;\n",
              "      flex-wrap:wrap;\n",
              "      gap: 12px;\n",
              "    }\n",
              "\n",
              "    .colab-df-convert {\n",
              "      background-color: #E8F0FE;\n",
              "      border: none;\n",
              "      border-radius: 50%;\n",
              "      cursor: pointer;\n",
              "      display: none;\n",
              "      fill: #1967D2;\n",
              "      height: 32px;\n",
              "      padding: 0 0 0 0;\n",
              "      width: 32px;\n",
              "    }\n",
              "\n",
              "    .colab-df-convert:hover {\n",
              "      background-color: #E2EBFA;\n",
              "      box-shadow: 0px 1px 2px rgba(60, 64, 67, 0.3), 0px 1px 3px 1px rgba(60, 64, 67, 0.15);\n",
              "      fill: #174EA6;\n",
              "    }\n",
              "\n",
              "    [theme=dark] .colab-df-convert {\n",
              "      background-color: #3B4455;\n",
              "      fill: #D2E3FC;\n",
              "    }\n",
              "\n",
              "    [theme=dark] .colab-df-convert:hover {\n",
              "      background-color: #434B5C;\n",
              "      box-shadow: 0px 1px 3px 1px rgba(0, 0, 0, 0.15);\n",
              "      filter: drop-shadow(0px 1px 2px rgba(0, 0, 0, 0.3));\n",
              "      fill: #FFFFFF;\n",
              "    }\n",
              "  </style>\n",
              "\n",
              "      <script>\n",
              "        const buttonEl =\n",
              "          document.querySelector('#df-59764226-822d-4447-825f-c79836aa5dc5 button.colab-df-convert');\n",
              "        buttonEl.style.display =\n",
              "          google.colab.kernel.accessAllowed ? 'block' : 'none';\n",
              "\n",
              "        async function convertToInteractive(key) {\n",
              "          const element = document.querySelector('#df-59764226-822d-4447-825f-c79836aa5dc5');\n",
              "          const dataTable =\n",
              "            await google.colab.kernel.invokeFunction('convertToInteractive',\n",
              "                                                     [key], {});\n",
              "          if (!dataTable) return;\n",
              "\n",
              "          const docLinkHtml = 'Like what you see? Visit the ' +\n",
              "            '<a target=\"_blank\" href=https://colab.research.google.com/notebooks/data_table.ipynb>data table notebook</a>'\n",
              "            + ' to learn more about interactive tables.';\n",
              "          element.innerHTML = '';\n",
              "          dataTable['output_type'] = 'display_data';\n",
              "          await google.colab.output.renderOutput(dataTable, element);\n",
              "          const docLink = document.createElement('div');\n",
              "          docLink.innerHTML = docLinkHtml;\n",
              "          element.appendChild(docLink);\n",
              "        }\n",
              "      </script>\n",
              "    </div>\n",
              "  </div>\n",
              "  "
            ]
          },
          "metadata": {},
          "execution_count": 18
        }
      ]
    },
    {
      "cell_type": "code",
      "source": [
        "Y = df[\"Output\"].apply(lambda x: \n",
        "                         1 if x[-1] == \"N\" else 0)"
      ],
      "metadata": {
        "id": "-Nk2OHV-qy_v"
      },
      "execution_count": 19,
      "outputs": []
    },
    {
      "cell_type": "markdown",
      "source": [
        "Por medio de una función lambda convertimos los datos de salida, originalmente expresados como N y O, en 1 o 0. con el fin de no presentar inconvenientes en la manipulación de los mismos. 1 representa un diagnóstico normal y 0 un diagnóstico alterado."
      ],
      "metadata": {
        "id": "vKh5uFzIuPGN"
      }
    },
    {
      "cell_type": "code",
      "source": [
        "Y.head()"
      ],
      "metadata": {
        "colab": {
          "base_uri": "https://localhost:8080/"
        },
        "id": "nTlxdD2MSO-c",
        "outputId": "69bc8a68-1d10-4ea8-9326-c6b7a019b92f"
      },
      "execution_count": 20,
      "outputs": [
        {
          "output_type": "execute_result",
          "data": {
            "text/plain": [
              "0    1\n",
              "1    0\n",
              "2    1\n",
              "3    1\n",
              "4    0\n",
              "Name: Output, dtype: int64"
            ]
          },
          "metadata": {},
          "execution_count": 20
        }
      ]
    },
    {
      "cell_type": "markdown",
      "source": [
        "Comprobamos el código anterior mostrando el encabezado de nuestra salida modificada."
      ],
      "metadata": {
        "id": "hSpDYhn2u2eg"
      }
    },
    {
      "cell_type": "code",
      "source": [
        "df.head()"
      ],
      "metadata": {
        "colab": {
          "base_uri": "https://localhost:8080/",
          "height": 206
        },
        "id": "wYLKoqL0VHbq",
        "outputId": "4029d1de-5b09-474d-ae43-a76d7ba821a6"
      },
      "execution_count": 21,
      "outputs": [
        {
          "output_type": "execute_result",
          "data": {
            "text/plain": [
              "   Season   Age  C. diseases  Accident  S. intervention  lyhfever  \\\n",
              "0   -0.33  0.69            0         1                1         0   \n",
              "1   -0.33  0.94            1         0                1         0   \n",
              "2   -0.33  0.50            1         0                0         0   \n",
              "3   -0.33  0.75            0         1                1         0   \n",
              "4   -0.33  0.67            1         1                0         0   \n",
              "\n",
              "   Acfrequency  Smoking  sittinghours Output  \n",
              "0          0.8        0          0.88      N  \n",
              "1          0.8        1          0.31      O  \n",
              "2          1.0       -1          0.50      N  \n",
              "3          1.0       -1          0.38      N  \n",
              "4          0.8       -1          0.50      O  "
            ],
            "text/html": [
              "\n",
              "  <div id=\"df-51c8d91a-6f79-4b39-86dd-b0ab362de470\">\n",
              "    <div class=\"colab-df-container\">\n",
              "      <div>\n",
              "<style scoped>\n",
              "    .dataframe tbody tr th:only-of-type {\n",
              "        vertical-align: middle;\n",
              "    }\n",
              "\n",
              "    .dataframe tbody tr th {\n",
              "        vertical-align: top;\n",
              "    }\n",
              "\n",
              "    .dataframe thead th {\n",
              "        text-align: right;\n",
              "    }\n",
              "</style>\n",
              "<table border=\"1\" class=\"dataframe\">\n",
              "  <thead>\n",
              "    <tr style=\"text-align: right;\">\n",
              "      <th></th>\n",
              "      <th>Season</th>\n",
              "      <th>Age</th>\n",
              "      <th>C. diseases</th>\n",
              "      <th>Accident</th>\n",
              "      <th>S. intervention</th>\n",
              "      <th>lyhfever</th>\n",
              "      <th>Acfrequency</th>\n",
              "      <th>Smoking</th>\n",
              "      <th>sittinghours</th>\n",
              "      <th>Output</th>\n",
              "    </tr>\n",
              "  </thead>\n",
              "  <tbody>\n",
              "    <tr>\n",
              "      <th>0</th>\n",
              "      <td>-0.33</td>\n",
              "      <td>0.69</td>\n",
              "      <td>0</td>\n",
              "      <td>1</td>\n",
              "      <td>1</td>\n",
              "      <td>0</td>\n",
              "      <td>0.8</td>\n",
              "      <td>0</td>\n",
              "      <td>0.88</td>\n",
              "      <td>N</td>\n",
              "    </tr>\n",
              "    <tr>\n",
              "      <th>1</th>\n",
              "      <td>-0.33</td>\n",
              "      <td>0.94</td>\n",
              "      <td>1</td>\n",
              "      <td>0</td>\n",
              "      <td>1</td>\n",
              "      <td>0</td>\n",
              "      <td>0.8</td>\n",
              "      <td>1</td>\n",
              "      <td>0.31</td>\n",
              "      <td>O</td>\n",
              "    </tr>\n",
              "    <tr>\n",
              "      <th>2</th>\n",
              "      <td>-0.33</td>\n",
              "      <td>0.50</td>\n",
              "      <td>1</td>\n",
              "      <td>0</td>\n",
              "      <td>0</td>\n",
              "      <td>0</td>\n",
              "      <td>1.0</td>\n",
              "      <td>-1</td>\n",
              "      <td>0.50</td>\n",
              "      <td>N</td>\n",
              "    </tr>\n",
              "    <tr>\n",
              "      <th>3</th>\n",
              "      <td>-0.33</td>\n",
              "      <td>0.75</td>\n",
              "      <td>0</td>\n",
              "      <td>1</td>\n",
              "      <td>1</td>\n",
              "      <td>0</td>\n",
              "      <td>1.0</td>\n",
              "      <td>-1</td>\n",
              "      <td>0.38</td>\n",
              "      <td>N</td>\n",
              "    </tr>\n",
              "    <tr>\n",
              "      <th>4</th>\n",
              "      <td>-0.33</td>\n",
              "      <td>0.67</td>\n",
              "      <td>1</td>\n",
              "      <td>1</td>\n",
              "      <td>0</td>\n",
              "      <td>0</td>\n",
              "      <td>0.8</td>\n",
              "      <td>-1</td>\n",
              "      <td>0.50</td>\n",
              "      <td>O</td>\n",
              "    </tr>\n",
              "  </tbody>\n",
              "</table>\n",
              "</div>\n",
              "      <button class=\"colab-df-convert\" onclick=\"convertToInteractive('df-51c8d91a-6f79-4b39-86dd-b0ab362de470')\"\n",
              "              title=\"Convert this dataframe to an interactive table.\"\n",
              "              style=\"display:none;\">\n",
              "        \n",
              "  <svg xmlns=\"http://www.w3.org/2000/svg\" height=\"24px\"viewBox=\"0 0 24 24\"\n",
              "       width=\"24px\">\n",
              "    <path d=\"M0 0h24v24H0V0z\" fill=\"none\"/>\n",
              "    <path d=\"M18.56 5.44l.94 2.06.94-2.06 2.06-.94-2.06-.94-.94-2.06-.94 2.06-2.06.94zm-11 1L8.5 8.5l.94-2.06 2.06-.94-2.06-.94L8.5 2.5l-.94 2.06-2.06.94zm10 10l.94 2.06.94-2.06 2.06-.94-2.06-.94-.94-2.06-.94 2.06-2.06.94z\"/><path d=\"M17.41 7.96l-1.37-1.37c-.4-.4-.92-.59-1.43-.59-.52 0-1.04.2-1.43.59L10.3 9.45l-7.72 7.72c-.78.78-.78 2.05 0 2.83L4 21.41c.39.39.9.59 1.41.59.51 0 1.02-.2 1.41-.59l7.78-7.78 2.81-2.81c.8-.78.8-2.07 0-2.86zM5.41 20L4 18.59l7.72-7.72 1.47 1.35L5.41 20z\"/>\n",
              "  </svg>\n",
              "      </button>\n",
              "      \n",
              "  <style>\n",
              "    .colab-df-container {\n",
              "      display:flex;\n",
              "      flex-wrap:wrap;\n",
              "      gap: 12px;\n",
              "    }\n",
              "\n",
              "    .colab-df-convert {\n",
              "      background-color: #E8F0FE;\n",
              "      border: none;\n",
              "      border-radius: 50%;\n",
              "      cursor: pointer;\n",
              "      display: none;\n",
              "      fill: #1967D2;\n",
              "      height: 32px;\n",
              "      padding: 0 0 0 0;\n",
              "      width: 32px;\n",
              "    }\n",
              "\n",
              "    .colab-df-convert:hover {\n",
              "      background-color: #E2EBFA;\n",
              "      box-shadow: 0px 1px 2px rgba(60, 64, 67, 0.3), 0px 1px 3px 1px rgba(60, 64, 67, 0.15);\n",
              "      fill: #174EA6;\n",
              "    }\n",
              "\n",
              "    [theme=dark] .colab-df-convert {\n",
              "      background-color: #3B4455;\n",
              "      fill: #D2E3FC;\n",
              "    }\n",
              "\n",
              "    [theme=dark] .colab-df-convert:hover {\n",
              "      background-color: #434B5C;\n",
              "      box-shadow: 0px 1px 3px 1px rgba(0, 0, 0, 0.15);\n",
              "      filter: drop-shadow(0px 1px 2px rgba(0, 0, 0, 0.3));\n",
              "      fill: #FFFFFF;\n",
              "    }\n",
              "  </style>\n",
              "\n",
              "      <script>\n",
              "        const buttonEl =\n",
              "          document.querySelector('#df-51c8d91a-6f79-4b39-86dd-b0ab362de470 button.colab-df-convert');\n",
              "        buttonEl.style.display =\n",
              "          google.colab.kernel.accessAllowed ? 'block' : 'none';\n",
              "\n",
              "        async function convertToInteractive(key) {\n",
              "          const element = document.querySelector('#df-51c8d91a-6f79-4b39-86dd-b0ab362de470');\n",
              "          const dataTable =\n",
              "            await google.colab.kernel.invokeFunction('convertToInteractive',\n",
              "                                                     [key], {});\n",
              "          if (!dataTable) return;\n",
              "\n",
              "          const docLinkHtml = 'Like what you see? Visit the ' +\n",
              "            '<a target=\"_blank\" href=https://colab.research.google.com/notebooks/data_table.ipynb>data table notebook</a>'\n",
              "            + ' to learn more about interactive tables.';\n",
              "          element.innerHTML = '';\n",
              "          dataTable['output_type'] = 'display_data';\n",
              "          await google.colab.output.renderOutput(dataTable, element);\n",
              "          const docLink = document.createElement('div');\n",
              "          docLink.innerHTML = docLinkHtml;\n",
              "          element.appendChild(docLink);\n",
              "        }\n",
              "      </script>\n",
              "    </div>\n",
              "  </div>\n",
              "  "
            ]
          },
          "metadata": {},
          "execution_count": 21
        }
      ]
    },
    {
      "cell_type": "code",
      "source": [
        "X = df.drop('Output', 1)"
      ],
      "metadata": {
        "colab": {
          "base_uri": "https://localhost:8080/"
        },
        "id": "0vouidaTSQA2",
        "outputId": "e9f86218-0e7e-45d5-a791-46f56f653c37"
      },
      "execution_count": 22,
      "outputs": [
        {
          "output_type": "stream",
          "name": "stderr",
          "text": [
            "/usr/local/lib/python3.7/dist-packages/ipykernel_launcher.py:1: FutureWarning: In a future version of pandas all arguments of DataFrame.drop except for the argument 'labels' will be keyword-only\n",
            "  \"\"\"Entry point for launching an IPython kernel.\n"
          ]
        }
      ]
    },
    {
      "cell_type": "code",
      "source": [
        "X.head()"
      ],
      "metadata": {
        "colab": {
          "base_uri": "https://localhost:8080/",
          "height": 206
        },
        "id": "SAWlA650UaEr",
        "outputId": "1f8e8b3d-f2ec-4a59-cf81-38e0019dc7a5"
      },
      "execution_count": 23,
      "outputs": [
        {
          "output_type": "execute_result",
          "data": {
            "text/plain": [
              "   Season   Age  C. diseases  Accident  S. intervention  lyhfever  \\\n",
              "0   -0.33  0.69            0         1                1         0   \n",
              "1   -0.33  0.94            1         0                1         0   \n",
              "2   -0.33  0.50            1         0                0         0   \n",
              "3   -0.33  0.75            0         1                1         0   \n",
              "4   -0.33  0.67            1         1                0         0   \n",
              "\n",
              "   Acfrequency  Smoking  sittinghours  \n",
              "0          0.8        0          0.88  \n",
              "1          0.8        1          0.31  \n",
              "2          1.0       -1          0.50  \n",
              "3          1.0       -1          0.38  \n",
              "4          0.8       -1          0.50  "
            ],
            "text/html": [
              "\n",
              "  <div id=\"df-3fb7a904-0746-4fc7-80c1-2e5d37e8e632\">\n",
              "    <div class=\"colab-df-container\">\n",
              "      <div>\n",
              "<style scoped>\n",
              "    .dataframe tbody tr th:only-of-type {\n",
              "        vertical-align: middle;\n",
              "    }\n",
              "\n",
              "    .dataframe tbody tr th {\n",
              "        vertical-align: top;\n",
              "    }\n",
              "\n",
              "    .dataframe thead th {\n",
              "        text-align: right;\n",
              "    }\n",
              "</style>\n",
              "<table border=\"1\" class=\"dataframe\">\n",
              "  <thead>\n",
              "    <tr style=\"text-align: right;\">\n",
              "      <th></th>\n",
              "      <th>Season</th>\n",
              "      <th>Age</th>\n",
              "      <th>C. diseases</th>\n",
              "      <th>Accident</th>\n",
              "      <th>S. intervention</th>\n",
              "      <th>lyhfever</th>\n",
              "      <th>Acfrequency</th>\n",
              "      <th>Smoking</th>\n",
              "      <th>sittinghours</th>\n",
              "    </tr>\n",
              "  </thead>\n",
              "  <tbody>\n",
              "    <tr>\n",
              "      <th>0</th>\n",
              "      <td>-0.33</td>\n",
              "      <td>0.69</td>\n",
              "      <td>0</td>\n",
              "      <td>1</td>\n",
              "      <td>1</td>\n",
              "      <td>0</td>\n",
              "      <td>0.8</td>\n",
              "      <td>0</td>\n",
              "      <td>0.88</td>\n",
              "    </tr>\n",
              "    <tr>\n",
              "      <th>1</th>\n",
              "      <td>-0.33</td>\n",
              "      <td>0.94</td>\n",
              "      <td>1</td>\n",
              "      <td>0</td>\n",
              "      <td>1</td>\n",
              "      <td>0</td>\n",
              "      <td>0.8</td>\n",
              "      <td>1</td>\n",
              "      <td>0.31</td>\n",
              "    </tr>\n",
              "    <tr>\n",
              "      <th>2</th>\n",
              "      <td>-0.33</td>\n",
              "      <td>0.50</td>\n",
              "      <td>1</td>\n",
              "      <td>0</td>\n",
              "      <td>0</td>\n",
              "      <td>0</td>\n",
              "      <td>1.0</td>\n",
              "      <td>-1</td>\n",
              "      <td>0.50</td>\n",
              "    </tr>\n",
              "    <tr>\n",
              "      <th>3</th>\n",
              "      <td>-0.33</td>\n",
              "      <td>0.75</td>\n",
              "      <td>0</td>\n",
              "      <td>1</td>\n",
              "      <td>1</td>\n",
              "      <td>0</td>\n",
              "      <td>1.0</td>\n",
              "      <td>-1</td>\n",
              "      <td>0.38</td>\n",
              "    </tr>\n",
              "    <tr>\n",
              "      <th>4</th>\n",
              "      <td>-0.33</td>\n",
              "      <td>0.67</td>\n",
              "      <td>1</td>\n",
              "      <td>1</td>\n",
              "      <td>0</td>\n",
              "      <td>0</td>\n",
              "      <td>0.8</td>\n",
              "      <td>-1</td>\n",
              "      <td>0.50</td>\n",
              "    </tr>\n",
              "  </tbody>\n",
              "</table>\n",
              "</div>\n",
              "      <button class=\"colab-df-convert\" onclick=\"convertToInteractive('df-3fb7a904-0746-4fc7-80c1-2e5d37e8e632')\"\n",
              "              title=\"Convert this dataframe to an interactive table.\"\n",
              "              style=\"display:none;\">\n",
              "        \n",
              "  <svg xmlns=\"http://www.w3.org/2000/svg\" height=\"24px\"viewBox=\"0 0 24 24\"\n",
              "       width=\"24px\">\n",
              "    <path d=\"M0 0h24v24H0V0z\" fill=\"none\"/>\n",
              "    <path d=\"M18.56 5.44l.94 2.06.94-2.06 2.06-.94-2.06-.94-.94-2.06-.94 2.06-2.06.94zm-11 1L8.5 8.5l.94-2.06 2.06-.94-2.06-.94L8.5 2.5l-.94 2.06-2.06.94zm10 10l.94 2.06.94-2.06 2.06-.94-2.06-.94-.94-2.06-.94 2.06-2.06.94z\"/><path d=\"M17.41 7.96l-1.37-1.37c-.4-.4-.92-.59-1.43-.59-.52 0-1.04.2-1.43.59L10.3 9.45l-7.72 7.72c-.78.78-.78 2.05 0 2.83L4 21.41c.39.39.9.59 1.41.59.51 0 1.02-.2 1.41-.59l7.78-7.78 2.81-2.81c.8-.78.8-2.07 0-2.86zM5.41 20L4 18.59l7.72-7.72 1.47 1.35L5.41 20z\"/>\n",
              "  </svg>\n",
              "      </button>\n",
              "      \n",
              "  <style>\n",
              "    .colab-df-container {\n",
              "      display:flex;\n",
              "      flex-wrap:wrap;\n",
              "      gap: 12px;\n",
              "    }\n",
              "\n",
              "    .colab-df-convert {\n",
              "      background-color: #E8F0FE;\n",
              "      border: none;\n",
              "      border-radius: 50%;\n",
              "      cursor: pointer;\n",
              "      display: none;\n",
              "      fill: #1967D2;\n",
              "      height: 32px;\n",
              "      padding: 0 0 0 0;\n",
              "      width: 32px;\n",
              "    }\n",
              "\n",
              "    .colab-df-convert:hover {\n",
              "      background-color: #E2EBFA;\n",
              "      box-shadow: 0px 1px 2px rgba(60, 64, 67, 0.3), 0px 1px 3px 1px rgba(60, 64, 67, 0.15);\n",
              "      fill: #174EA6;\n",
              "    }\n",
              "\n",
              "    [theme=dark] .colab-df-convert {\n",
              "      background-color: #3B4455;\n",
              "      fill: #D2E3FC;\n",
              "    }\n",
              "\n",
              "    [theme=dark] .colab-df-convert:hover {\n",
              "      background-color: #434B5C;\n",
              "      box-shadow: 0px 1px 3px 1px rgba(0, 0, 0, 0.15);\n",
              "      filter: drop-shadow(0px 1px 2px rgba(0, 0, 0, 0.3));\n",
              "      fill: #FFFFFF;\n",
              "    }\n",
              "  </style>\n",
              "\n",
              "      <script>\n",
              "        const buttonEl =\n",
              "          document.querySelector('#df-3fb7a904-0746-4fc7-80c1-2e5d37e8e632 button.colab-df-convert');\n",
              "        buttonEl.style.display =\n",
              "          google.colab.kernel.accessAllowed ? 'block' : 'none';\n",
              "\n",
              "        async function convertToInteractive(key) {\n",
              "          const element = document.querySelector('#df-3fb7a904-0746-4fc7-80c1-2e5d37e8e632');\n",
              "          const dataTable =\n",
              "            await google.colab.kernel.invokeFunction('convertToInteractive',\n",
              "                                                     [key], {});\n",
              "          if (!dataTable) return;\n",
              "\n",
              "          const docLinkHtml = 'Like what you see? Visit the ' +\n",
              "            '<a target=\"_blank\" href=https://colab.research.google.com/notebooks/data_table.ipynb>data table notebook</a>'\n",
              "            + ' to learn more about interactive tables.';\n",
              "          element.innerHTML = '';\n",
              "          dataTable['output_type'] = 'display_data';\n",
              "          await google.colab.output.renderOutput(dataTable, element);\n",
              "          const docLink = document.createElement('div');\n",
              "          docLink.innerHTML = docLinkHtml;\n",
              "          element.appendChild(docLink);\n",
              "        }\n",
              "      </script>\n",
              "    </div>\n",
              "  </div>\n",
              "  "
            ]
          },
          "metadata": {},
          "execution_count": 23
        }
      ]
    },
    {
      "cell_type": "code",
      "source": [
        "min_ = MinMaxScaler()\n",
        "min_.fit(X)\n",
        "X = min_.transform(X)\n",
        "\n",
        "#X = MinMaxScaler().fit_transform(X)\n",
        "print('Min: ' + str(np.min(X, axis = 0)))\n",
        "print('Max: ' + str(np.max(X, axis = 0)))\n",
        "print(X)"
      ],
      "metadata": {
        "id": "O30W9OY0VVRc",
        "colab": {
          "base_uri": "https://localhost:8080/"
        },
        "outputId": "ca8e5f26-0b9a-4b3f-ca0d-eee958064f1c"
      },
      "execution_count": 24,
      "outputs": [
        {
          "output_type": "stream",
          "name": "stdout",
          "text": [
            "Min: [0. 0. 0. 0. 0. 0. 0. 0. 0.]\n",
            "Max: [1. 1. 1. 1. 1. 1. 1. 1. 1.]\n",
            "[[0.335      0.38       0.         1.         1.         0.5\n",
            "  0.75       0.5        0.87234043]\n",
            " [0.335      0.88       1.         0.         1.         0.5\n",
            "  0.75       1.         0.26595745]\n",
            " [0.335      0.         1.         0.         0.         0.5\n",
            "  1.         0.         0.46808511]\n",
            " [0.335      0.5        0.         1.         1.         0.5\n",
            "  1.         0.         0.34042553]\n",
            " [0.335      0.34       1.         1.         0.         0.5\n",
            "  0.75       0.         0.46808511]\n",
            " [0.335      0.34       1.         0.         1.         0.5\n",
            "  0.75       0.5        0.46808511]\n",
            " [0.335      0.34       0.         0.         0.         0.\n",
            "  0.75       0.         0.40425532]\n",
            " [0.335      1.         1.         1.         1.         0.5\n",
            "  0.5        0.         0.34042553]\n",
            " [1.         0.28       0.         0.         1.         0.5\n",
            "  0.75       0.         0.20212766]\n",
            " [1.         0.22       1.         0.         0.         0.5\n",
            "  1.         0.         0.20212766]\n",
            " [1.         0.34       1.         1.         0.         0.\n",
            "  0.75       0.5        0.26595745]\n",
            " [1.         0.56       1.         1.         1.         0.5\n",
            "  0.5        0.5        0.07446809]\n",
            " [1.         0.5        1.         1.         1.         0.5\n",
            "  0.75       1.         0.20212766]\n",
            " [1.         0.62       1.         0.         0.         0.5\n",
            "  1.         0.         0.34042553]\n",
            " [1.         0.88       1.         1.         1.         0.5\n",
            "  0.         0.         0.20212766]\n",
            " [1.         0.62       1.         1.         0.         0.5\n",
            "  1.         1.         0.46808511]\n",
            " [1.         0.28       1.         0.         1.         0.5\n",
            "  1.         0.         0.34042553]\n",
            " [1.         0.38       1.         0.         1.         0.5\n",
            "  0.75       0.         0.20212766]\n",
            " [1.         0.5        1.         1.         1.         0.5\n",
            "  1.         1.         0.20212766]\n",
            " [1.         0.34       1.         0.         0.         0.5\n",
            "  0.75       1.         0.34042553]\n",
            " [1.         0.34       0.         0.         1.         0.5\n",
            "  0.75       0.         0.20212766]\n",
            " [1.         0.5        1.         0.         0.         0.5\n",
            "  0.5        0.5        0.20212766]\n",
            " [1.         0.34       1.         1.         0.         0.5\n",
            "  0.75       0.         0.20212766]\n",
            " [1.         0.38       1.         0.         1.         0.\n",
            "  1.         0.         0.40425532]\n",
            " [1.         0.12       1.         0.         1.         0.5\n",
            "  1.         0.         0.60638298]\n",
            " [1.         0.34       1.         0.         0.         0.5\n",
            "  1.         0.         0.20212766]\n",
            " [1.         0.34       1.         0.         1.         0.5\n",
            "  0.5        0.         0.34042553]\n",
            " [1.         0.56       1.         1.         0.         1.\n",
            "  0.5        0.         0.34042553]\n",
            " [1.         0.16       0.         0.         1.         0.5\n",
            "  1.         0.         0.13829787]\n",
            " [1.         0.34       0.         0.         1.         0.5\n",
            "  0.5        0.5        0.46808511]\n",
            " [1.         0.22       1.         0.         1.         0.5\n",
            "  1.         0.         0.60638298]\n",
            " [1.         0.12       1.         0.         0.         0.5\n",
            "  1.         0.         0.40425532]\n",
            " [1.         0.28       0.         0.         0.         0.5\n",
            "  1.         0.         0.60638298]\n",
            " [1.         0.16       1.         1.         1.         0.5\n",
            "  0.75       0.5        0.40425532]\n",
            " [1.         0.12       1.         1.         1.         0.5\n",
            "  1.         0.         0.60638298]\n",
            " [0.         0.56       1.         1.         0.         1.\n",
            "  0.5        0.         0.34042553]\n",
            " [0.         0.56       1.         0.         1.         0.5\n",
            "  1.         0.         0.20212766]\n",
            " [0.         0.12       1.         0.         1.         0.5\n",
            "  1.         0.         0.60638298]\n",
            " [0.         0.34       0.         0.         1.         0.5\n",
            "  0.5        0.5        0.46808511]\n",
            " [0.         0.38       1.         0.         0.         0.5\n",
            "  1.         0.         0.26595745]\n",
            " [0.         0.06       1.         1.         1.         0.5\n",
            "  0.75       1.         0.46808511]\n",
            " [0.         0.12       1.         1.         0.         0.5\n",
            "  0.75       1.         0.46808511]\n",
            " [0.         0.16       1.         0.         1.         0.\n",
            "  0.75       1.         0.46808511]\n",
            " [0.         0.12       1.         0.         0.         0.5\n",
            "  1.         0.         0.40425532]\n",
            " [0.         0.06       1.         1.         0.         1.\n",
            "  1.         0.5        0.26595745]\n",
            " [0.         0.06       1.         0.         0.         1.\n",
            "  1.         0.5        0.40425532]\n",
            " [0.335      0.12       1.         0.         0.         0.5\n",
            "  1.         0.         0.60638298]\n",
            " [0.335      0.44       1.         1.         0.         0.5\n",
            "  0.5        1.         0.13829787]\n",
            " [0.335      0.28       1.         1.         1.         0.5\n",
            "  0.75       0.         0.26595745]\n",
            " [0.335      0.5        1.         1.         1.         0.5\n",
            "  0.5        0.         0.13829787]\n",
            " [0.335      0.34       1.         0.         1.         0.5\n",
            "  0.75       0.         0.13829787]\n",
            " [0.335      0.06       1.         1.         0.         1.\n",
            "  1.         0.         0.73404255]\n",
            " [0.335      0.06       1.         1.         0.         0.5\n",
            "  0.75       0.5        0.46808511]\n",
            " [0.335      0.16       1.         1.         1.         0.\n",
            "  0.75       0.5        0.13829787]\n",
            " [0.335      0.22       1.         0.         1.         0.5\n",
            "  1.         0.         0.60638298]\n",
            " [0.335      0.16       1.         0.         1.         0.5\n",
            "  0.75       1.         0.13829787]\n",
            " [0.335      0.06       1.         1.         0.         0.5\n",
            "  0.75       0.5        0.73404255]\n",
            " [0.335      0.38       1.         1.         1.         0.\n",
            "  1.         0.         0.73404255]\n",
            " [0.335      0.12       1.         1.         0.         0.5\n",
            "  0.25       1.         0.60638298]\n",
            " [1.         0.16       0.         0.         0.         1.\n",
            "  0.75       1.         0.40425532]\n",
            " [1.         0.12       0.         0.         0.         1.\n",
            "  0.75       0.5        1.        ]\n",
            " [0.         0.28       1.         0.         0.         1.\n",
            "  1.         1.         0.20212766]\n",
            " [0.         0.22       1.         1.         1.         0.5\n",
            "  0.5        0.         0.34042553]\n",
            " [0.         0.12       1.         0.         0.         1.\n",
            "  1.         0.         0.46808511]\n",
            " [0.         0.06       1.         0.         0.         1.\n",
            "  0.75       0.         0.26595745]\n",
            " [0.335      0.12       0.         0.         1.         0.5\n",
            "  1.         0.         0.53191489]\n",
            " [0.335      0.         1.         1.         0.         0.\n",
            "  0.75       0.5        0.87234043]\n",
            " [0.335      0.         1.         0.         0.         1.\n",
            "  1.         0.         0.43617021]\n",
            " [0.335      0.         1.         0.         0.         1.\n",
            "  0.75       0.5        0.26595745]\n",
            " [0.335      0.         1.         0.         1.         0.\n",
            "  0.75       0.         0.46808511]\n",
            " [0.335      0.         1.         1.         0.         0.\n",
            "  0.75       0.5        0.87234043]\n",
            " [0.665      0.38       1.         0.         0.         1.\n",
            "  1.         0.         0.26595745]\n",
            " [1.         0.12       1.         0.         0.         1.\n",
            "  0.5        0.5        0.46808511]\n",
            " [0.         0.         1.         0.         0.         1.\n",
            "  0.75       0.         0.40425532]\n",
            " [0.         0.06       1.         0.         0.         1.\n",
            "  0.75       0.         0.60638298]\n",
            " [0.         0.56       1.         0.         1.         1.\n",
            "  1.         1.         0.20212766]\n",
            " [0.         0.5        1.         0.         1.         1.\n",
            "  0.5        0.5        0.53191489]\n",
            " [0.         0.44       1.         1.         1.         1.\n",
            "  0.75       0.         0.13829787]\n",
            " [0.         0.06       1.         1.         0.         1.\n",
            "  0.75       0.         0.34042553]\n",
            " [0.         1.         1.         0.         1.         1.\n",
            "  0.5        0.5        0.20212766]\n",
            " [0.335      0.84       1.         1.         0.         1.\n",
            "  1.         0.         0.60638298]\n",
            " [0.         0.62       1.         1.         1.         1.\n",
            "  0.75       0.5        0.13829787]\n",
            " [0.335      0.84       1.         0.         0.         1.\n",
            "  0.5        0.         0.13829787]\n",
            " [0.335      0.72       1.         1.         1.         1.\n",
            "  1.         0.         0.20212766]\n",
            " [0.335      0.56       1.         0.         0.         1.\n",
            "  1.         1.         0.        ]\n",
            " [0.335      0.78       1.         1.         0.         0.5\n",
            "  0.5        1.         0.26595745]\n",
            " [0.335      0.5        1.         1.         1.         0.5\n",
            "  0.5        1.         0.20212766]\n",
            " [0.335      0.5        1.         1.         1.         1.\n",
            "  0.75       1.         0.20212766]\n",
            " [0.335      0.66       1.         1.         1.         0.5\n",
            "  1.         0.         0.26595745]\n",
            " [0.335      0.62       1.         1.         1.         0.5\n",
            "  1.         1.         0.34042553]\n",
            " [0.335      0.62       1.         1.         1.         1.\n",
            "  0.75       0.         0.34042553]\n",
            " [0.665      0.56       1.         0.         0.         0.5\n",
            "  1.         1.         0.        ]\n",
            " [0.665      0.5        1.         1.         0.         0.5\n",
            "  0.75       0.         0.34042553]\n",
            " [0.665      0.5        1.         0.         1.         0.5\n",
            "  0.75       0.         0.40425532]\n",
            " [1.         0.16       1.         0.         0.         0.5\n",
            "  0.5        1.         0.46808511]\n",
            " [0.         0.34       1.         0.         0.         0.5\n",
            "  1.         0.         0.46808511]\n",
            " [0.         0.22       1.         0.         0.         0.5\n",
            "  0.75       0.5        0.46808511]\n",
            " [0.         0.34       1.         1.         1.         0.5\n",
            "  1.         0.         0.26595745]\n",
            " [0.         0.28       1.         0.         1.         0.5\n",
            "  1.         0.5        0.13829787]\n",
            " [0.         0.38       0.         1.         1.         0.5\n",
            "  0.5        0.         0.13829787]]\n"
          ]
        }
      ]
    },
    {
      "cell_type": "code",
      "source": [
        "X_train, X_test, y_train, y_test = train_test_split(X, Y, test_size=0.3, random_state=42)"
      ],
      "metadata": {
        "id": "FNO939p5VhCx"
      },
      "execution_count": 25,
      "outputs": []
    },
    {
      "cell_type": "code",
      "source": [
        "print('Tamaño X: ' + str(len(X)))\n",
        "print('Tamaño y: ' + str(len(Y)))\n",
        "print('Tamaño X_train: ' + str(len(X_train)))\n",
        "print('Tamaño y_train: ' + str(len(y_train)))\n",
        "print('Tamaño X_test: ' + str(len(X_test)))\n",
        "print('Tamaño y_test: ' + str(len(y_test)))"
      ],
      "metadata": {
        "colab": {
          "base_uri": "https://localhost:8080/"
        },
        "id": "eXpfmkeGVv56",
        "outputId": "0944d7ea-3103-4b48-8a68-8381c329e191"
      },
      "execution_count": 26,
      "outputs": [
        {
          "output_type": "stream",
          "name": "stdout",
          "text": [
            "Tamaño X: 100\n",
            "Tamaño y: 100\n",
            "Tamaño X_train: 70\n",
            "Tamaño y_train: 70\n",
            "Tamaño X_test: 30\n",
            "Tamaño y_test: 30\n"
          ]
        }
      ]
    },
    {
      "cell_type": "code",
      "source": [
        "clf = Perceptron(tol=1e-3)\n",
        "clf.fit(X_train, y_train)"
      ],
      "metadata": {
        "colab": {
          "base_uri": "https://localhost:8080/"
        },
        "id": "-eSPV4swVzUZ",
        "outputId": "f74cf298-52f5-461b-a1e8-44978cf4658a"
      },
      "execution_count": 27,
      "outputs": [
        {
          "output_type": "execute_result",
          "data": {
            "text/plain": [
              "Perceptron()"
            ]
          },
          "metadata": {},
          "execution_count": 27
        }
      ]
    },
    {
      "cell_type": "code",
      "source": [
        "plot_confusion_matrix(clf, X_test, y_test) "
      ],
      "metadata": {
        "colab": {
          "base_uri": "https://localhost:8080/",
          "height": 351
        },
        "id": "51Iena1wV68A",
        "outputId": "d542d547-6a3e-42f4-e309-c3a959168283"
      },
      "execution_count": 28,
      "outputs": [
        {
          "output_type": "stream",
          "name": "stderr",
          "text": [
            "/usr/local/lib/python3.7/dist-packages/sklearn/utils/deprecation.py:87: FutureWarning: Function plot_confusion_matrix is deprecated; Function `plot_confusion_matrix` is deprecated in 1.0 and will be removed in 1.2. Use one of the class methods: ConfusionMatrixDisplay.from_predictions or ConfusionMatrixDisplay.from_estimator.\n",
            "  warnings.warn(msg, category=FutureWarning)\n"
          ]
        },
        {
          "output_type": "execute_result",
          "data": {
            "text/plain": [
              "<sklearn.metrics._plot.confusion_matrix.ConfusionMatrixDisplay at 0x7f72e0819250>"
            ]
          },
          "metadata": {},
          "execution_count": 28
        },
        {
          "output_type": "display_data",
          "data": {
            "text/plain": [
              "<Figure size 432x288 with 2 Axes>"
            ],
            "image/png": "[encoded data removed]"
          },
          "metadata": {
            "needs_background": "light"
          }
        }
      ]
    },
    {
      "cell_type": "markdown",
      "source": [
        "El modelo no fue 100% exacto, sin embargo, tuvo una presición y una exactitud del 90% inicialmente y tampoco produjo ningún falso negativo, lo que es bastante satisfactorio. "
      ],
      "metadata": {
        "id": "fafMGVQv0Jls"
      }
    },
    {
      "cell_type": "code",
      "source": [
        "y_pred = clf.predict(X_test)\n",
        "tn, fp, fn, tp = confusion_matrix(y_test,y_pred).ravel()\n",
        "print('tn: ' + str(tn))\n",
        "print('fp: ' + str(fp))\n",
        "print('fn: ' + str(fn))\n",
        "print('tp: ' + str(tp))"
      ],
      "metadata": {
        "colab": {
          "base_uri": "https://localhost:8080/"
        },
        "id": "nRCOay47V9nu",
        "outputId": "819850a7-fc39-4c61-d23c-0b615286035e"
      },
      "execution_count": 29,
      "outputs": [
        {
          "output_type": "stream",
          "name": "stdout",
          "text": [
            "tn: 0\n",
            "fp: 3\n",
            "fn: 0\n",
            "tp: 27\n"
          ]
        }
      ]
    },
    {
      "cell_type": "code",
      "source": [
        "print('Accuracy: ' + str(accuracy_score(y_test, y_pred)))\n",
        "print('F1 score: ' + str(f1_score(y_test, y_pred)))\n",
        "print('Precision: ' + str(precision_score(y_test, y_pred)))\n",
        "print('Recall: ' + str(recall_score(y_test, y_pred)))"
      ],
      "metadata": {
        "colab": {
          "base_uri": "https://localhost:8080/"
        },
        "id": "giyShQtIWE1J",
        "outputId": "c7c1771a-455f-4ca5-e19a-9c695baf8077"
      },
      "execution_count": 30,
      "outputs": [
        {
          "output_type": "stream",
          "name": "stdout",
          "text": [
            "Accuracy: 0.9\n",
            "F1 score: 0.9473684210526316\n",
            "Precision: 0.9\n",
            "Recall: 1.0\n"
          ]
        }
      ]
    },
    {
      "cell_type": "code",
      "source": [
        "acc = []\n",
        "for i in [1e-10,1e-4,1e-5,1e-2,1e0,1e1,1e2,1e-15]:\n",
        "  clf = Perceptron(tol=i, max_iter=1000000000)\n",
        "  clf.fit(X_train, y_train)\n",
        "  y_pred = clf.predict(X_test)\n",
        "  acc.append(accuracy_score(y_test, y_pred))"
      ],
      "metadata": {
        "id": "WuAT4pXgWJui"
      },
      "execution_count": 31,
      "outputs": []
    },
    {
      "cell_type": "code",
      "source": [
        "print(acc)\n",
        "import matplotlib.pyplot as plt\n",
        "\n",
        "plt.plot(acc)"
      ],
      "metadata": {
        "colab": {
          "base_uri": "https://localhost:8080/",
          "height": 304
        },
        "id": "U0ua792NWUd9",
        "outputId": "42fdc1b5-4a60-4597-f6cf-c00003039ced"
      },
      "execution_count": 32,
      "outputs": [
        {
          "output_type": "stream",
          "name": "stdout",
          "text": [
            "[0.9, 0.9, 0.9, 0.9, 0.9333333333333333, 0.9333333333333333, 0.9333333333333333, 0.9]\n"
          ]
        },
        {
          "output_type": "execute_result",
          "data": {
            "text/plain": [
              "[<matplotlib.lines.Line2D at 0x7f72e074b950>]"
            ]
          },
          "metadata": {},
          "execution_count": 32
        },
        {
          "output_type": "display_data",
          "data": {
            "text/plain": [
              "<Figure size 432x288 with 1 Axes>"
            ],
            "image/png": "[encoded data removed]"
          },
          "metadata": {
            "needs_background": "light"
          }
        }
      ]
    },
    {
      "cell_type": "markdown",
      "source": [
        "Considero adecuado el uso del perceptrón simple para la clasificación de pacientes como diagnosticados o no diagnosticados con alguna patología, almenos como un primer filtro que clasifique a los pacientes y de acuerdo a dicha clasificación se les de una atención, tratamiento, o conjunto de evalucaiones correspondientes para determinar su estado verdadero. Esto ayudaría a agilizar procesos como el inicio de un tratamiento a quien lo requiere y la reducción de gastos al recomendar examenes y evaluaciones menos especializadas o complejas a los pacientes cuya clasificación indica no ser positivos."
      ],
      "metadata": {
        "id": "1enA3Mq61aa9"
      }
    },
    {
      "cell_type": "code",
      "source": [],
      "metadata": {
        "id": "PerNt_U0WWxc"
      },
      "execution_count": 32,
      "outputs": []
    }
  ]
}